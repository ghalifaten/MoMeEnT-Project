{
 "cells": [
  {
   "cell_type": "code",
   "execution_count": 1,
   "id": "5c3e9901-4057-4cc4-88c6-e582b3f03f62",
   "metadata": {},
   "outputs": [],
   "source": [
    "from http.server import BaseHTTPRequestHandler, HTTPServer\n",
    "from urllib.parse import urlparse\n",
    "import urllib\n",
    "import sys\n",
    "import requests\n",
    "import os\n",
    "import simplejson as json\n",
    "\n",
    "def getReponse(d,dataCenter,apiToken):\n",
    "    responseId = d['ResponseID']\n",
    "    surveyId = d['SurveyID']\n",
    "\n",
    "    headers = {\n",
    "        \"content-type\": \"application/json\",\n",
    "        \"x-api-token\": yourapitoken,\n",
    "       }\n",
    "\n",
    "    url = \"https://{0}.qualtrics.com/API/v3/surveys/{1}/responses/{2}\".format(dataCenter,surveyId,responseId)\n",
    "\n",
    "    \n",
    "    rsp = requests.get(url, headers=headers)\n",
    "    print(rsp.json())\n",
    "\n",
    "\n",
    "def parsey(c):\n",
    "    x=c.decode().split(\"&\")\n",
    "    d = {}\n",
    "    for i in x:\n",
    "        a,b = i.split(\"=\")\n",
    "        d[a] = b\n",
    "\n",
    "    d['CompletedDate'] = urllib.parse.unquote(d['CompletedDate'])\n",
    "\n",
    "    return d\n",
    "\n",
    "class Handler(BaseHTTPRequestHandler):\n",
    "\n",
    "    # GET\n",
    "    def do_POST(self):\n",
    "        content_length = int(self.headers['Content-Length']) \n",
    "        post_data = self.rfile.read(content_length)\n",
    "        d = parsey(post_data)\n",
    "\n",
    "        try:\n",
    "            apiToken = os.environ['APIKEY']\n",
    "            dataCenter = os.environ['DATACENTER']\n",
    "        except KeyError:\n",
    "            print(\"set environment variables APIKEY and DATACENTER\")\n",
    "            sys.exit(2)\n",
    "\n",
    "        getReponse(d,dataCenter,apiToken)"
   ]
  },
  {
   "cell_type": "code",
   "execution_count": null,
   "id": "8353fd1f-a673-4a11-ba46-28c572e3636d",
   "metadata": {},
   "outputs": [],
   "source": [
    "def run():\n",
    "\n",
    "    print('starting server...')\n",
    "    server_address = ('172.31.46.15', 8080)\n",
    "\n",
    "    httpd = HTTPServer(server_address, Handler)\n",
    "    print('running server...')\n",
    "    httpd.serve_forever()\n",
    "\n",
    "\n",
    "try: \n",
    "    run()\n",
    "except KeyboardInterrupt:\n",
    "    sys.exit(0)"
   ]
  }
 ],
 "metadata": {
  "kernelspec": {
   "display_name": "herus_venv",
   "language": "python",
   "name": "herus_venv"
  },
  "language_info": {
   "codemirror_mode": {
    "name": "ipython",
    "version": 3
   },
   "file_extension": ".py",
   "mimetype": "text/x-python",
   "name": "python",
   "nbconvert_exporter": "python",
   "pygments_lexer": "ipython3",
   "version": "3.8.10"
  }
 },
 "nbformat": 4,
 "nbformat_minor": 5
}
