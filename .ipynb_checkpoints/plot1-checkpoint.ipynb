{
 "cells": [
  {
   "cell_type": "raw",
   "id": "ee941d38-e6d1-438a-8ac8-afb9d9971967",
   "metadata": {},
   "source": [
    "!pip install plotly"
   ]
  },
  {
   "cell_type": "code",
   "execution_count": 2,
   "id": "cfc3daaa-c7c1-40ca-a5d6-3062d406f567",
   "metadata": {},
   "outputs": [
    {
     "data": {
      "application/vnd.plotly.v1+json": {
       "config": {
        "plotlyServerURL": "https://plot.ly"
       },
       "data": [
        {
         "alignmentgroup": "True",
         "hovertemplate": "Sex=Female<br>me=Aug 21<br>cases=%{text}<br>age=%{y}<extra></extra>",
         "legendgroup": "Female",
         "marker": {
          "color": "#636efa",
          "pattern": {
           "shape": ""
          }
         },
         "name": "Female",
         "offsetgroup": "Female",
         "orientation": "h",
         "showlegend": true,
         "text": [
          105341.6837,
          121856.7218,
          123536.21719999998,
          93305.3,
          27991.59
         ],
         "textposition": "auto",
         "texttemplate": "%{text:.3s}",
         "type": "bar",
         "x": [
          105341.6837,
          121856.7218,
          123536.21719999998,
          93305.3,
          27991.59
         ],
         "xaxis": "x",
         "y": [
          "0-19",
          "20-39",
          "40-59",
          "60-79",
          "80+"
         ],
         "yaxis": "y"
        },
        {
         "alignmentgroup": "True",
         "hovertemplate": "Sex=Male<br>me=Aug 21<br>cases=%{text}<br>age=%{y}<extra></extra>",
         "legendgroup": "Male",
         "marker": {
          "color": "#EF553B",
          "pattern": {
           "shape": ""
          }
         },
         "name": "Male",
         "offsetgroup": "Male",
         "orientation": "h",
         "showlegend": true,
         "text": [
          110286.8646,
          123536.21719999998,
          120830.3635,
          86960.5396,
          19407.502399999998
         ],
         "textposition": "auto",
         "texttemplate": "%{text:.3s}",
         "type": "bar",
         "x": [
          110286.8646,
          123536.21719999998,
          120830.3635,
          86960.5396,
          19407.502399999998
         ],
         "xaxis": "x",
         "y": [
          "0-19",
          "20-39",
          "40-59",
          "60-79",
          "80+"
         ],
         "yaxis": "y"
        }
       ],
       "frames": [
        {
         "data": [
          {
           "alignmentgroup": "True",
           "hovertemplate": "Sex=Female<br>me=Mar 20<br>cases=%{text}<br>age=%{y}<extra></extra>",
           "legendgroup": "Female",
           "marker": {
            "color": "#636efa",
            "pattern": {
             "shape": ""
            }
           },
           "name": "Female",
           "offsetgroup": "Female",
           "orientation": "h",
           "showlegend": true,
           "text": [
            4337.9567,
            5018.0437999999995,
            5087.205199999999,
            3842.3,
            1152.69
           ],
           "textposition": "auto",
           "texttemplate": "%{text:.3s}",
           "type": "bar",
           "x": [
            4337.9567,
            5018.0437999999995,
            5087.205199999999,
            3842.3,
            1152.69
           ],
           "xaxis": "x",
           "y": [
            "0-19",
            "20-39",
            "40-59",
            "60-79",
            "80+"
           ],
           "yaxis": "y"
          },
          {
           "alignmentgroup": "True",
           "hovertemplate": "Sex=Male<br>me=Mar 20<br>cases=%{text}<br>age=%{y}<extra></extra>",
           "legendgroup": "Male",
           "marker": {
            "color": "#EF553B",
            "pattern": {
             "shape": ""
            }
           },
           "name": "Male",
           "offsetgroup": "Male",
           "orientation": "h",
           "showlegend": true,
           "text": [
            4541.5986,
            5087.205199999999,
            4975.7785,
            3581.0236,
            799.1984
           ],
           "textposition": "auto",
           "texttemplate": "%{text:.3s}",
           "type": "bar",
           "x": [
            4541.5986,
            5087.205199999999,
            4975.7785,
            3581.0236,
            799.1984
           ],
           "xaxis": "x",
           "y": [
            "0-19",
            "20-39",
            "40-59",
            "60-79",
            "80+"
           ],
           "yaxis": "y"
          }
         ],
         "name": "Mar 20"
        },
        {
         "data": [
          {
           "alignmentgroup": "True",
           "hovertemplate": "Sex=Female<br>me=Apr 20<br>cases=%{text}<br>age=%{y}<extra></extra>",
           "legendgroup": "Female",
           "marker": {
            "color": "#636efa",
            "pattern": {
             "shape": ""
            }
           },
           "name": "Female",
           "offsetgroup": "Female",
           "orientation": "h",
           "showlegend": true,
           "text": [
            15699.7611,
            18161.1054,
            18411.4116,
            13905.900000000001,
            4171.7699999999995
           ],
           "textposition": "auto",
           "texttemplate": "%{text:.3s}",
           "type": "bar",
           "x": [
            15699.7611,
            18161.1054,
            18411.4116,
            13905.900000000001,
            4171.7699999999995
           ],
           "xaxis": "x",
           "y": [
            "0-19",
            "20-39",
            "40-59",
            "60-79",
            "80+"
           ],
           "yaxis": "y"
          },
          {
           "alignmentgroup": "True",
           "hovertemplate": "Sex=Male<br>me=Apr 20<br>cases=%{text}<br>age=%{y}<extra></extra>",
           "legendgroup": "Male",
           "marker": {
            "color": "#EF553B",
            "pattern": {
             "shape": ""
            }
           },
           "name": "Male",
           "offsetgroup": "Male",
           "orientation": "h",
           "showlegend": true,
           "text": [
            16436.7738,
            18411.4116,
            18008.1405,
            12960.2988,
            2892.4272
           ],
           "textposition": "auto",
           "texttemplate": "%{text:.3s}",
           "type": "bar",
           "x": [
            16436.7738,
            18411.4116,
            18008.1405,
            12960.2988,
            2892.4272
           ],
           "xaxis": "x",
           "y": [
            "0-19",
            "20-39",
            "40-59",
            "60-79",
            "80+"
           ],
           "yaxis": "y"
          }
         ],
         "name": "Apr 20"
        },
        {
         "data": [
          {
           "alignmentgroup": "True",
           "hovertemplate": "Sex=Female<br>me=May 20<br>cases=%{text}<br>age=%{y}<extra></extra>",
           "legendgroup": "Female",
           "marker": {
            "color": "#636efa",
            "pattern": {
             "shape": ""
            }
           },
           "name": "Female",
           "offsetgroup": "Female",
           "orientation": "h",
           "showlegend": true,
           "text": [
            8874.1658,
            10265.421199999999,
            10406.904799999998,
            7860.200000000001,
            2358.06
           ],
           "textposition": "auto",
           "texttemplate": "%{text:.3s}",
           "type": "bar",
           "x": [
            8874.1658,
            10265.421199999999,
            10406.904799999998,
            7860.200000000001,
            2358.06
           ],
           "xaxis": "x",
           "y": [
            "0-19",
            "20-39",
            "40-59",
            "60-79",
            "80+"
           ],
           "yaxis": "y"
          },
          {
           "alignmentgroup": "True",
           "hovertemplate": "Sex=Male<br>me=May 20<br>cases=%{text}<br>age=%{y}<extra></extra>",
           "legendgroup": "Male",
           "marker": {
            "color": "#EF553B",
            "pattern": {
             "shape": ""
            }
           },
           "name": "Male",
           "offsetgroup": "Male",
           "orientation": "h",
           "showlegend": true,
           "text": [
            9290.7564,
            10406.904799999998,
            10178.959,
            7325.7064,
            1634.9216
           ],
           "textposition": "auto",
           "texttemplate": "%{text:.3s}",
           "type": "bar",
           "x": [
            9290.7564,
            10406.904799999998,
            10178.959,
            7325.7064,
            1634.9216
           ],
           "xaxis": "x",
           "y": [
            "0-19",
            "20-39",
            "40-59",
            "60-79",
            "80+"
           ],
           "yaxis": "y"
          }
         ],
         "name": "May 20"
        },
        {
         "data": [
          {
           "alignmentgroup": "True",
           "hovertemplate": "Sex=Female<br>me=Jun 20<br>cases=%{text}<br>age=%{y}<extra></extra>",
           "legendgroup": "Female",
           "marker": {
            "color": "#636efa",
            "pattern": {
             "shape": ""
            }
           },
           "name": "Female",
           "offsetgroup": "Female",
           "orientation": "h",
           "showlegend": true,
           "text": [
            3112.0885,
            3599.989,
            3649.6059999999998,
            2756.5,
            826.9499999999999
           ],
           "textposition": "auto",
           "texttemplate": "%{text:.3s}",
           "type": "bar",
           "x": [
            3112.0885,
            3599.989,
            3649.6059999999998,
            2756.5,
            826.9499999999999
           ],
           "xaxis": "x",
           "y": [
            "0-19",
            "20-39",
            "40-59",
            "60-79",
            "80+"
           ],
           "yaxis": "y"
          },
          {
           "alignmentgroup": "True",
           "hovertemplate": "Sex=Male<br>me=Jun 20<br>cases=%{text}<br>age=%{y}<extra></extra>",
           "legendgroup": "Male",
           "marker": {
            "color": "#EF553B",
            "pattern": {
             "shape": ""
            }
           },
           "name": "Male",
           "offsetgroup": "Male",
           "orientation": "h",
           "showlegend": true,
           "text": [
            3258.183,
            3649.6059999999998,
            3569.6675,
            2569.058,
            573.352
           ],
           "textposition": "auto",
           "texttemplate": "%{text:.3s}",
           "type": "bar",
           "x": [
            3258.183,
            3649.6059999999998,
            3569.6675,
            2569.058,
            573.352
           ],
           "xaxis": "x",
           "y": [
            "0-19",
            "20-39",
            "40-59",
            "60-79",
            "80+"
           ],
           "yaxis": "y"
          }
         ],
         "name": "Jun 20"
        },
        {
         "data": [
          {
           "alignmentgroup": "True",
           "hovertemplate": "Sex=Female<br>me=Jul 20<br>cases=%{text}<br>age=%{y}<extra></extra>",
           "legendgroup": "Female",
           "marker": {
            "color": "#636efa",
            "pattern": {
             "shape": ""
            }
           },
           "name": "Female",
           "offsetgroup": "Female",
           "orientation": "h",
           "showlegend": true,
           "text": [
            2198.2759,
            2542.9125999999997,
            2577.9604,
            1947.1000000000001,
            584.13
           ],
           "textposition": "auto",
           "texttemplate": "%{text:.3s}",
           "type": "bar",
           "x": [
            2198.2759,
            2542.9125999999997,
            2577.9604,
            1947.1000000000001,
            584.13
           ],
           "xaxis": "x",
           "y": [
            "0-19",
            "20-39",
            "40-59",
            "60-79",
            "80+"
           ],
           "yaxis": "y"
          },
          {
           "alignmentgroup": "True",
           "hovertemplate": "Sex=Male<br>me=Jul 20<br>cases=%{text}<br>age=%{y}<extra></extra>",
           "legendgroup": "Male",
           "marker": {
            "color": "#EF553B",
            "pattern": {
             "shape": ""
            }
           },
           "name": "Male",
           "offsetgroup": "Male",
           "orientation": "h",
           "showlegend": true,
           "text": [
            2301.4722,
            2577.9604,
            2521.4945000000002,
            1814.6972,
            404.9968
           ],
           "textposition": "auto",
           "texttemplate": "%{text:.3s}",
           "type": "bar",
           "x": [
            2301.4722,
            2577.9604,
            2521.4945000000002,
            1814.6972,
            404.9968
           ],
           "xaxis": "x",
           "y": [
            "0-19",
            "20-39",
            "40-59",
            "60-79",
            "80+"
           ],
           "yaxis": "y"
          }
         ],
         "name": "Jul 20"
        },
        {
         "data": [
          {
           "alignmentgroup": "True",
           "hovertemplate": "Sex=Female<br>me=Aug 20<br>cases=%{text}<br>age=%{y}<extra></extra>",
           "legendgroup": "Female",
           "marker": {
            "color": "#636efa",
            "pattern": {
             "shape": ""
            }
           },
           "name": "Female",
           "offsetgroup": "Female",
           "orientation": "h",
           "showlegend": true,
           "text": [
            3690.9268,
            4269.5752,
            4328.4208,
            3269.2000000000003,
            980.76
           ],
           "textposition": "auto",
           "texttemplate": "%{text:.3s}",
           "type": "bar",
           "x": [
            3690.9268,
            4269.5752,
            4328.4208,
            3269.2000000000003,
            980.76
           ],
           "xaxis": "x",
           "y": [
            "0-19",
            "20-39",
            "40-59",
            "60-79",
            "80+"
           ],
           "yaxis": "y"
          },
          {
           "alignmentgroup": "True",
           "hovertemplate": "Sex=Male<br>me=Aug 20<br>cases=%{text}<br>age=%{y}<extra></extra>",
           "legendgroup": "Male",
           "marker": {
            "color": "#EF553B",
            "pattern": {
             "shape": ""
            }
           },
           "name": "Male",
           "offsetgroup": "Male",
           "orientation": "h",
           "showlegend": true,
           "text": [
            3864.1944,
            4328.4208,
            4233.6140000000005,
            3046.8944,
            679.9936
           ],
           "textposition": "auto",
           "texttemplate": "%{text:.3s}",
           "type": "bar",
           "x": [
            3864.1944,
            4328.4208,
            4233.6140000000005,
            3046.8944,
            679.9936
           ],
           "xaxis": "x",
           "y": [
            "0-19",
            "20-39",
            "40-59",
            "60-79",
            "80+"
           ],
           "yaxis": "y"
          }
         ],
         "name": "Aug 20"
        },
        {
         "data": [
          {
           "alignmentgroup": "True",
           "hovertemplate": "Sex=Female<br>me=Sep 20<br>cases=%{text}<br>age=%{y}<extra></extra>",
           "legendgroup": "Female",
           "marker": {
            "color": "#636efa",
            "pattern": {
             "shape": ""
            }
           },
           "name": "Female",
           "offsetgroup": "Female",
           "orientation": "h",
           "showlegend": true,
           "text": [
            13253.4439,
            15331.264599999999,
            15542.568399999998,
            11739.1,
            3521.73
           ],
           "textposition": "auto",
           "texttemplate": "%{text:.3s}",
           "type": "bar",
           "x": [
            13253.4439,
            15331.264599999999,
            15542.568399999998,
            11739.1,
            3521.73
           ],
           "xaxis": "x",
           "y": [
            "0-19",
            "20-39",
            "40-59",
            "60-79",
            "80+"
           ],
           "yaxis": "y"
          },
          {
           "alignmentgroup": "True",
           "hovertemplate": "Sex=Male<br>me=Sep 20<br>cases=%{text}<br>age=%{y}<extra></extra>",
           "legendgroup": "Male",
           "marker": {
            "color": "#EF553B",
            "pattern": {
             "shape": ""
            }
           },
           "name": "Male",
           "offsetgroup": "Male",
           "orientation": "h",
           "showlegend": true,
           "text": [
            13875.6162,
            15542.568399999998,
            15202.1345,
            10940.8412,
            2441.7327999999998
           ],
           "textposition": "auto",
           "texttemplate": "%{text:.3s}",
           "type": "bar",
           "x": [
            13875.6162,
            15542.568399999998,
            15202.1345,
            10940.8412,
            2441.7327999999998
           ],
           "xaxis": "x",
           "y": [
            "0-19",
            "20-39",
            "40-59",
            "60-79",
            "80+"
           ],
           "yaxis": "y"
          }
         ],
         "name": "Sep 20"
        },
        {
         "data": [
          {
           "alignmentgroup": "True",
           "hovertemplate": "Sex=Female<br>me=Oct 20<br>cases=%{text}<br>age=%{y}<extra></extra>",
           "legendgroup": "Female",
           "marker": {
            "color": "#636efa",
            "pattern": {
             "shape": ""
            }
           },
           "name": "Female",
           "offsetgroup": "Female",
           "orientation": "h",
           "showlegend": true,
           "text": [
            63042.9084,
            72926.51759999999,
            73931.6304,
            55839.600000000006,
            16751.88
           ],
           "textposition": "auto",
           "texttemplate": "%{text:.3s}",
           "type": "bar",
           "x": [
            63042.9084,
            72926.51759999999,
            73931.6304,
            55839.600000000006,
            16751.88
           ],
           "xaxis": "x",
           "y": [
            "0-19",
            "20-39",
            "40-59",
            "60-79",
            "80+"
           ],
           "yaxis": "y"
          },
          {
           "alignmentgroup": "True",
           "hovertemplate": "Sex=Male<br>me=Oct 20<br>cases=%{text}<br>age=%{y}<extra></extra>",
           "legendgroup": "Male",
           "marker": {
            "color": "#EF553B",
            "pattern": {
             "shape": ""
            }
           },
           "name": "Male",
           "offsetgroup": "Male",
           "orientation": "h",
           "showlegend": true,
           "text": [
            66002.4072,
            73931.6304,
            72312.282,
            52042.5072,
            11614.6368
           ],
           "textposition": "auto",
           "texttemplate": "%{text:.3s}",
           "type": "bar",
           "x": [
            66002.4072,
            73931.6304,
            72312.282,
            52042.5072,
            11614.6368
           ],
           "xaxis": "x",
           "y": [
            "0-19",
            "20-39",
            "40-59",
            "60-79",
            "80+"
           ],
           "yaxis": "y"
          }
         ],
         "name": "Oct 20"
        },
        {
         "data": [
          {
           "alignmentgroup": "True",
           "hovertemplate": "Sex=Female<br>me=Nov 20<br>cases=%{text}<br>age=%{y}<extra></extra>",
           "legendgroup": "Female",
           "marker": {
            "color": "#636efa",
            "pattern": {
             "shape": ""
            }
           },
           "name": "Female",
           "offsetgroup": "Female",
           "orientation": "h",
           "showlegend": true,
           "text": [
            69771.8613,
            80710.40819999999,
            81822.80279999999,
            61799.700000000004,
            18539.91
           ],
           "textposition": "auto",
           "texttemplate": "%{text:.3s}",
           "type": "bar",
           "x": [
            69771.8613,
            80710.40819999999,
            81822.80279999999,
            61799.700000000004,
            18539.91
           ],
           "xaxis": "x",
           "y": [
            "0-19",
            "20-39",
            "40-59",
            "60-79",
            "80+"
           ],
           "yaxis": "y"
          },
          {
           "alignmentgroup": "True",
           "hovertemplate": "Sex=Male<br>me=Nov 20<br>cases=%{text}<br>age=%{y}<extra></extra>",
           "legendgroup": "Male",
           "marker": {
            "color": "#EF553B",
            "pattern": {
             "shape": ""
            }
           },
           "name": "Male",
           "offsetgroup": "Male",
           "orientation": "h",
           "showlegend": true,
           "text": [
            73047.2454,
            81822.80279999999,
            80030.6115,
            57597.320400000004,
            12854.337599999999
           ],
           "textposition": "auto",
           "texttemplate": "%{text:.3s}",
           "type": "bar",
           "x": [
            73047.2454,
            81822.80279999999,
            80030.6115,
            57597.320400000004,
            12854.337599999999
           ],
           "xaxis": "x",
           "y": [
            "0-19",
            "20-39",
            "40-59",
            "60-79",
            "80+"
           ],
           "yaxis": "y"
          }
         ],
         "name": "Nov 20"
        },
        {
         "data": [
          {
           "alignmentgroup": "True",
           "hovertemplate": "Sex=Female<br>me=Dec 20<br>cases=%{text}<br>age=%{y}<extra></extra>",
           "legendgroup": "Female",
           "marker": {
            "color": "#636efa",
            "pattern": {
             "shape": ""
            }
           },
           "name": "Female",
           "offsetgroup": "Female",
           "orientation": "h",
           "showlegend": true,
           "text": [
            96994.9867,
            112201.4638,
            113747.88519999999,
            85912.3,
            25773.69
           ],
           "textposition": "auto",
           "texttemplate": "%{text:.3s}",
           "type": "bar",
           "x": [
            96994.9867,
            112201.4638,
            113747.88519999999,
            85912.3,
            25773.69
           ],
           "xaxis": "x",
           "y": [
            "0-19",
            "20-39",
            "40-59",
            "60-79",
            "80+"
           ],
           "yaxis": "y"
          },
          {
           "alignmentgroup": "True",
           "hovertemplate": "Sex=Male<br>me=Dec 20<br>cases=%{text}<br>age=%{y}<extra></extra>",
           "legendgroup": "Male",
           "marker": {
            "color": "#EF553B",
            "pattern": {
             "shape": ""
            }
           },
           "name": "Male",
           "offsetgroup": "Male",
           "orientation": "h",
           "showlegend": true,
           "text": [
            101548.3386,
            113747.88519999999,
            111256.42850000001,
            80070.2636,
            17869.7584
           ],
           "textposition": "auto",
           "texttemplate": "%{text:.3s}",
           "type": "bar",
           "x": [
            101548.3386,
            113747.88519999999,
            111256.42850000001,
            80070.2636,
            17869.7584
           ],
           "xaxis": "x",
           "y": [
            "0-19",
            "20-39",
            "40-59",
            "60-79",
            "80+"
           ],
           "yaxis": "y"
          }
         ],
         "name": "Dec 20"
        },
        {
         "data": [
          {
           "alignmentgroup": "True",
           "hovertemplate": "Sex=Female<br>me=Jan 21<br>cases=%{text}<br>age=%{y}<extra></extra>",
           "legendgroup": "Female",
           "marker": {
            "color": "#636efa",
            "pattern": {
             "shape": ""
            }
           },
           "name": "Female",
           "offsetgroup": "Female",
           "orientation": "h",
           "showlegend": true,
           "text": [
            149975.90840000001,
            173488.5176,
            175879.6304,
            132839.6,
            39851.88
           ],
           "textposition": "auto",
           "texttemplate": "%{text:.3s}",
           "type": "bar",
           "x": [
            149975.90840000001,
            173488.5176,
            175879.6304,
            132839.6,
            39851.88
           ],
           "xaxis": "x",
           "y": [
            "0-19",
            "20-39",
            "40-59",
            "60-79",
            "80+"
           ],
           "yaxis": "y"
          },
          {
           "alignmentgroup": "True",
           "hovertemplate": "Sex=Male<br>me=Jan 21<br>cases=%{text}<br>age=%{y}<extra></extra>",
           "legendgroup": "Male",
           "marker": {
            "color": "#EF553B",
            "pattern": {
             "shape": ""
            }
           },
           "name": "Male",
           "offsetgroup": "Male",
           "orientation": "h",
           "showlegend": true,
           "text": [
            157016.4072,
            175879.6304,
            172027.282,
            123806.50720000001,
            27630.6368
           ],
           "textposition": "auto",
           "texttemplate": "%{text:.3s}",
           "type": "bar",
           "x": [
            157016.4072,
            175879.6304,
            172027.282,
            123806.50720000001,
            27630.6368
           ],
           "xaxis": "x",
           "y": [
            "0-19",
            "20-39",
            "40-59",
            "60-79",
            "80+"
           ],
           "yaxis": "y"
          }
         ],
         "name": "Jan 21"
        },
        {
         "data": [
          {
           "alignmentgroup": "True",
           "hovertemplate": "Sex=Female<br>me=Feb 21<br>cases=%{text}<br>age=%{y}<extra></extra>",
           "legendgroup": "Female",
           "marker": {
            "color": "#636efa",
            "pattern": {
             "shape": ""
            }
           },
           "name": "Female",
           "offsetgroup": "Female",
           "orientation": "h",
           "showlegend": true,
           "text": [
            40573.7762,
            46934.7668,
            47581.6472,
            35937.8,
            10781.34
           ],
           "textposition": "auto",
           "texttemplate": "%{text:.3s}",
           "type": "bar",
           "x": [
            40573.7762,
            46934.7668,
            47581.6472,
            35937.8,
            10781.34
           ],
           "xaxis": "x",
           "y": [
            "0-19",
            "20-39",
            "40-59",
            "60-79",
            "80+"
           ],
           "yaxis": "y"
          },
          {
           "alignmentgroup": "True",
           "hovertemplate": "Sex=Male<br>me=Feb 21<br>cases=%{text}<br>age=%{y}<extra></extra>",
           "legendgroup": "Male",
           "marker": {
            "color": "#EF553B",
            "pattern": {
             "shape": ""
            }
           },
           "name": "Male",
           "offsetgroup": "Male",
           "orientation": "h",
           "showlegend": true,
           "text": [
            42478.4796,
            47581.6472,
            46539.451,
            33494.0296,
            7475.0624
           ],
           "textposition": "auto",
           "texttemplate": "%{text:.3s}",
           "type": "bar",
           "x": [
            42478.4796,
            47581.6472,
            46539.451,
            33494.0296,
            7475.0624
           ],
           "xaxis": "x",
           "y": [
            "0-19",
            "20-39",
            "40-59",
            "60-79",
            "80+"
           ],
           "yaxis": "y"
          }
         ],
         "name": "Feb 21"
        },
        {
         "data": [
          {
           "alignmentgroup": "True",
           "hovertemplate": "Sex=Female<br>me=Mar 21<br>cases=%{text}<br>age=%{y}<extra></extra>",
           "legendgroup": "Female",
           "marker": {
            "color": "#636efa",
            "pattern": {
             "shape": ""
            }
           },
           "name": "Female",
           "offsetgroup": "Female",
           "orientation": "h",
           "showlegend": true,
           "text": [
            19106.5186,
            22101.9604,
            22406.581599999998,
            16923.4,
            5077.0199999999995
           ],
           "textposition": "auto",
           "texttemplate": "%{text:.3s}",
           "type": "bar",
           "x": [
            19106.5186,
            22101.9604,
            22406.581599999998,
            16923.4,
            5077.0199999999995
           ],
           "xaxis": "x",
           "y": [
            "0-19",
            "20-39",
            "40-59",
            "60-79",
            "80+"
           ],
           "yaxis": "y"
          },
          {
           "alignmentgroup": "True",
           "hovertemplate": "Sex=Male<br>me=Mar 21<br>cases=%{text}<br>age=%{y}<extra></extra>",
           "legendgroup": "Male",
           "marker": {
            "color": "#EF553B",
            "pattern": {
             "shape": ""
            }
           },
           "name": "Male",
           "offsetgroup": "Male",
           "orientation": "h",
           "showlegend": true,
           "text": [
            20003.4588,
            22406.581599999998,
            21915.803,
            15772.6088,
            3520.0672
           ],
           "textposition": "auto",
           "texttemplate": "%{text:.3s}",
           "type": "bar",
           "x": [
            20003.4588,
            22406.581599999998,
            21915.803,
            15772.6088,
            3520.0672
           ],
           "xaxis": "x",
           "y": [
            "0-19",
            "20-39",
            "40-59",
            "60-79",
            "80+"
           ],
           "yaxis": "y"
          }
         ],
         "name": "Mar 21"
        },
        {
         "data": [
          {
           "alignmentgroup": "True",
           "hovertemplate": "Sex=Female<br>me=Apr 21<br>cases=%{text}<br>age=%{y}<extra></extra>",
           "legendgroup": "Female",
           "marker": {
            "color": "#636efa",
            "pattern": {
             "shape": ""
            }
           },
           "name": "Female",
           "offsetgroup": "Female",
           "orientation": "h",
           "showlegend": true,
           "text": [
            8545.9655,
            9885.767,
            10022.018,
            7569.5,
            2270.85
           ],
           "textposition": "auto",
           "texttemplate": "%{text:.3s}",
           "type": "bar",
           "x": [
            8545.9655,
            9885.767,
            10022.018,
            7569.5,
            2270.85
           ],
           "xaxis": "x",
           "y": [
            "0-19",
            "20-39",
            "40-59",
            "60-79",
            "80+"
           ],
           "yaxis": "y"
          },
          {
           "alignmentgroup": "True",
           "hovertemplate": "Sex=Male<br>me=Apr 21<br>cases=%{text}<br>age=%{y}<extra></extra>",
           "legendgroup": "Male",
           "marker": {
            "color": "#EF553B",
            "pattern": {
             "shape": ""
            }
           },
           "name": "Male",
           "offsetgroup": "Male",
           "orientation": "h",
           "showlegend": true,
           "text": [
            8947.149,
            10022.018,
            9802.5025,
            7054.774,
            1574.456
           ],
           "textposition": "auto",
           "texttemplate": "%{text:.3s}",
           "type": "bar",
           "x": [
            8947.149,
            10022.018,
            9802.5025,
            7054.774,
            1574.456
           ],
           "xaxis": "x",
           "y": [
            "0-19",
            "20-39",
            "40-59",
            "60-79",
            "80+"
           ],
           "yaxis": "y"
          }
         ],
         "name": "Apr 21"
        },
        {
         "data": [
          {
           "alignmentgroup": "True",
           "hovertemplate": "Sex=Female<br>me=May 21<br>cases=%{text}<br>age=%{y}<extra></extra>",
           "legendgroup": "Female",
           "marker": {
            "color": "#636efa",
            "pattern": {
             "shape": ""
            }
           },
           "name": "Female",
           "offsetgroup": "Female",
           "orientation": "h",
           "showlegend": true,
           "text": [
            8250.732,
            9544.248,
            9675.792,
            7308,
            2192.4
           ],
           "textposition": "auto",
           "texttemplate": "%{text:.3s}",
           "type": "bar",
           "x": [
            8250.732,
            9544.248,
            9675.792,
            7308,
            2192.4
           ],
           "xaxis": "x",
           "y": [
            "0-19",
            "20-39",
            "40-59",
            "60-79",
            "80+"
           ],
           "yaxis": "y"
          },
          {
           "alignmentgroup": "True",
           "hovertemplate": "Sex=Male<br>me=May 21<br>cases=%{text}<br>age=%{y}<extra></extra>",
           "legendgroup": "Male",
           "marker": {
            "color": "#EF553B",
            "pattern": {
             "shape": ""
            }
           },
           "name": "Male",
           "offsetgroup": "Male",
           "orientation": "h",
           "showlegend": true,
           "text": [
            8638.056,
            9675.792,
            9463.86,
            6811.0560000000005,
            1520.0639999999999
           ],
           "textposition": "auto",
           "texttemplate": "%{text:.3s}",
           "type": "bar",
           "x": [
            8638.056,
            9675.792,
            9463.86,
            6811.0560000000005,
            1520.0639999999999
           ],
           "xaxis": "x",
           "y": [
            "0-19",
            "20-39",
            "40-59",
            "60-79",
            "80+"
           ],
           "yaxis": "y"
          }
         ],
         "name": "May 21"
        },
        {
         "data": [
          {
           "alignmentgroup": "True",
           "hovertemplate": "Sex=Female<br>me=Jun 21<br>cases=%{text}<br>age=%{y}<extra></extra>",
           "legendgroup": "Female",
           "marker": {
            "color": "#636efa",
            "pattern": {
             "shape": ""
            }
           },
           "name": "Female",
           "offsetgroup": "Female",
           "orientation": "h",
           "showlegend": true,
           "text": [
            35401.8272,
            40951.9808,
            41516.40319999999,
            31356.800000000003,
            9407.039999999999
           ],
           "textposition": "auto",
           "texttemplate": "%{text:.3s}",
           "type": "bar",
           "x": [
            35401.8272,
            40951.9808,
            41516.40319999999,
            31356.800000000003,
            9407.039999999999
           ],
           "xaxis": "x",
           "y": [
            "0-19",
            "20-39",
            "40-59",
            "60-79",
            "80+"
           ],
           "yaxis": "y"
          },
          {
           "alignmentgroup": "True",
           "hovertemplate": "Sex=Male<br>me=Jun 21<br>cases=%{text}<br>age=%{y}<extra></extra>",
           "legendgroup": "Male",
           "marker": {
            "color": "#EF553B",
            "pattern": {
             "shape": ""
            }
           },
           "name": "Male",
           "offsetgroup": "Male",
           "orientation": "h",
           "showlegend": true,
           "text": [
            37063.7376,
            41516.40319999999,
            40607.056000000004,
            29224.537600000003,
            6522.2144
           ],
           "textposition": "auto",
           "texttemplate": "%{text:.3s}",
           "type": "bar",
           "x": [
            37063.7376,
            41516.40319999999,
            40607.056000000004,
            29224.537600000003,
            6522.2144
           ],
           "xaxis": "x",
           "y": [
            "0-19",
            "20-39",
            "40-59",
            "60-79",
            "80+"
           ],
           "yaxis": "y"
          }
         ],
         "name": "Jun 21"
        },
        {
         "data": [
          {
           "alignmentgroup": "True",
           "hovertemplate": "Sex=Female<br>me=Jul 21<br>cases=%{text}<br>age=%{y}<extra></extra>",
           "legendgroup": "Female",
           "marker": {
            "color": "#636efa",
            "pattern": {
             "shape": ""
            }
           },
           "name": "Female",
           "offsetgroup": "Female",
           "orientation": "h",
           "showlegend": true,
           "text": [
            119179.6109,
            137864.10259999998,
            139764.2204,
            105562.1,
            31668.629999999997
           ],
           "textposition": "auto",
           "texttemplate": "%{text:.3s}",
           "type": "bar",
           "x": [
            119179.6109,
            137864.10259999998,
            139764.2204,
            105562.1,
            31668.629999999997
           ],
           "xaxis": "x",
           "y": [
            "0-19",
            "20-39",
            "40-59",
            "60-79",
            "80+"
           ],
           "yaxis": "y"
          },
          {
           "alignmentgroup": "True",
           "hovertemplate": "Sex=Male<br>me=Jul 21<br>cases=%{text}<br>age=%{y}<extra></extra>",
           "legendgroup": "Male",
           "marker": {
            "color": "#EF553B",
            "pattern": {
             "shape": ""
            }
           },
           "name": "Male",
           "offsetgroup": "Male",
           "orientation": "h",
           "showlegend": true,
           "text": [
            124774.4022,
            139764.2204,
            136702.91950000002,
            98383.8772,
            21956.9168
           ],
           "textposition": "auto",
           "texttemplate": "%{text:.3s}",
           "type": "bar",
           "x": [
            124774.4022,
            139764.2204,
            136702.91950000002,
            98383.8772,
            21956.9168
           ],
           "xaxis": "x",
           "y": [
            "0-19",
            "20-39",
            "40-59",
            "60-79",
            "80+"
           ],
           "yaxis": "y"
          }
         ],
         "name": "Jul 21"
        },
        {
         "data": [
          {
           "alignmentgroup": "True",
           "hovertemplate": "Sex=Female<br>me=Aug 21<br>cases=%{text}<br>age=%{y}<extra></extra>",
           "legendgroup": "Female",
           "marker": {
            "color": "#636efa",
            "pattern": {
             "shape": ""
            }
           },
           "name": "Female",
           "offsetgroup": "Female",
           "orientation": "h",
           "showlegend": true,
           "text": [
            105341.6837,
            121856.7218,
            123536.21719999998,
            93305.3,
            27991.59
           ],
           "textposition": "auto",
           "texttemplate": "%{text:.3s}",
           "type": "bar",
           "x": [
            105341.6837,
            121856.7218,
            123536.21719999998,
            93305.3,
            27991.59
           ],
           "xaxis": "x",
           "y": [
            "0-19",
            "20-39",
            "40-59",
            "60-79",
            "80+"
           ],
           "yaxis": "y"
          },
          {
           "alignmentgroup": "True",
           "hovertemplate": "Sex=Male<br>me=Aug 21<br>cases=%{text}<br>age=%{y}<extra></extra>",
           "legendgroup": "Male",
           "marker": {
            "color": "#EF553B",
            "pattern": {
             "shape": ""
            }
           },
           "name": "Male",
           "offsetgroup": "Male",
           "orientation": "h",
           "showlegend": true,
           "text": [
            110286.8646,
            123536.21719999998,
            120830.3635,
            86960.5396,
            19407.502399999998
           ],
           "textposition": "auto",
           "texttemplate": "%{text:.3s}",
           "type": "bar",
           "x": [
            110286.8646,
            123536.21719999998,
            120830.3635,
            86960.5396,
            19407.502399999998
           ],
           "xaxis": "x",
           "y": [
            "0-19",
            "20-39",
            "40-59",
            "60-79",
            "80+"
           ],
           "yaxis": "y"
          }
         ],
         "name": "Aug 21"
        },
        {
         "data": [
          {
           "alignmentgroup": "True",
           "hovertemplate": "Sex=Female<br>me=Sep 21<br>cases=%{text}<br>age=%{y}<extra></extra>",
           "legendgroup": "Female",
           "marker": {
            "color": "#636efa",
            "pattern": {
             "shape": ""
            }
           },
           "name": "Female",
           "offsetgroup": "Female",
           "orientation": "h",
           "showlegend": true,
           "text": [
            114870.6695,
            132879.623,
            134711.042,
            101745.5,
            30523.649999999998
           ],
           "textposition": "auto",
           "texttemplate": "%{text:.3s}",
           "type": "bar",
           "x": [
            114870.6695,
            132879.623,
            134711.042,
            101745.5,
            30523.649999999998
           ],
           "xaxis": "x",
           "y": [
            "0-19",
            "20-39",
            "40-59",
            "60-79",
            "80+"
           ],
           "yaxis": "y"
          },
          {
           "alignmentgroup": "True",
           "hovertemplate": "Sex=Male<br>me=Sep 21<br>cases=%{text}<br>age=%{y}<extra></extra>",
           "legendgroup": "Male",
           "marker": {
            "color": "#EF553B",
            "pattern": {
             "shape": ""
            }
           },
           "name": "Male",
           "offsetgroup": "Male",
           "orientation": "h",
           "showlegend": true,
           "text": [
            120263.181,
            134711.042,
            131760.42250000002,
            94826.80600000001,
            21163.064
           ],
           "textposition": "auto",
           "texttemplate": "%{text:.3s}",
           "type": "bar",
           "x": [
            120263.181,
            134711.042,
            131760.42250000002,
            94826.80600000001,
            21163.064
           ],
           "xaxis": "x",
           "y": [
            "0-19",
            "20-39",
            "40-59",
            "60-79",
            "80+"
           ],
           "yaxis": "y"
          }
         ],
         "name": "Sep 21"
        },
        {
         "data": [
          {
           "alignmentgroup": "True",
           "hovertemplate": "Sex=Female<br>me=Oct 21<br>cases=%{text}<br>age=%{y}<extra></extra>",
           "legendgroup": "Female",
           "marker": {
            "color": "#636efa",
            "pattern": {
             "shape": ""
            }
           },
           "name": "Female",
           "offsetgroup": "Female",
           "orientation": "h",
           "showlegend": true,
           "text": [
            141191.9497,
            163327.4458,
            165578.5132,
            125059.3,
            37517.79
           ],
           "textposition": "auto",
           "texttemplate": "%{text:.3s}",
           "type": "bar",
           "x": [
            141191.9497,
            163327.4458,
            165578.5132,
            125059.3,
            37517.79
           ],
           "xaxis": "x",
           "y": [
            "0-19",
            "20-39",
            "40-59",
            "60-79",
            "80+"
           ],
           "yaxis": "y"
          },
          {
           "alignmentgroup": "True",
           "hovertemplate": "Sex=Male<br>me=Oct 21<br>cases=%{text}<br>age=%{y}<extra></extra>",
           "legendgroup": "Male",
           "marker": {
            "color": "#EF553B",
            "pattern": {
             "shape": ""
            }
           },
           "name": "Male",
           "offsetgroup": "Male",
           "orientation": "h",
           "showlegend": true,
           "text": [
            147820.0926,
            165578.5132,
            161951.7935,
            116555.2676,
            26012.3344
           ],
           "textposition": "auto",
           "texttemplate": "%{text:.3s}",
           "type": "bar",
           "x": [
            147820.0926,
            165578.5132,
            161951.7935,
            116555.2676,
            26012.3344
           ],
           "xaxis": "x",
           "y": [
            "0-19",
            "20-39",
            "40-59",
            "60-79",
            "80+"
           ],
           "yaxis": "y"
          }
         ],
         "name": "Oct 21"
        },
        {
         "data": [
          {
           "alignmentgroup": "True",
           "hovertemplate": "Sex=Female<br>me=Nov 21<br>cases=%{text}<br>age=%{y}<extra></extra>",
           "legendgroup": "Female",
           "marker": {
            "color": "#636efa",
            "pattern": {
             "shape": ""
            }
           },
           "name": "Female",
           "offsetgroup": "Female",
           "orientation": "h",
           "showlegend": true,
           "text": [
            132222.0447,
            152951.2758,
            155059.3332,
            117114.3,
            35134.29
           ],
           "textposition": "auto",
           "texttemplate": "%{text:.3s}",
           "type": "bar",
           "x": [
            132222.0447,
            152951.2758,
            155059.3332,
            117114.3,
            35134.29
           ],
           "xaxis": "x",
           "y": [
            "0-19",
            "20-39",
            "40-59",
            "60-79",
            "80+"
           ],
           "yaxis": "y"
          },
          {
           "alignmentgroup": "True",
           "hovertemplate": "Sex=Male<br>me=Nov 21<br>cases=%{text}<br>age=%{y}<extra></extra>",
           "legendgroup": "Male",
           "marker": {
            "color": "#EF553B",
            "pattern": {
             "shape": ""
            }
           },
           "name": "Male",
           "offsetgroup": "Male",
           "orientation": "h",
           "showlegend": true,
           "text": [
            138429.1026,
            155059.3332,
            151663.0185,
            109150.5276,
            24359.7744
           ],
           "textposition": "auto",
           "texttemplate": "%{text:.3s}",
           "type": "bar",
           "x": [
            138429.1026,
            155059.3332,
            151663.0185,
            109150.5276,
            24359.7744
           ],
           "xaxis": "x",
           "y": [
            "0-19",
            "20-39",
            "40-59",
            "60-79",
            "80+"
           ],
           "yaxis": "y"
          }
         ],
         "name": "Nov 21"
        },
        {
         "data": [
          {
           "alignmentgroup": "True",
           "hovertemplate": "Sex=Female<br>me=Dec 21<br>cases=%{text}<br>age=%{y}<extra></extra>",
           "legendgroup": "Female",
           "marker": {
            "color": "#636efa",
            "pattern": {
             "shape": ""
            }
           },
           "name": "Female",
           "offsetgroup": "Female",
           "orientation": "h",
           "showlegend": true,
           "text": [
            305858.9706,
            353810.28839999996,
            358686.6936,
            270911.4,
            81273.42
           ],
           "textposition": "auto",
           "texttemplate": "%{text:.3s}",
           "type": "bar",
           "x": [
            305858.9706,
            353810.28839999996,
            358686.6936,
            270911.4,
            81273.42
           ],
           "xaxis": "x",
           "y": [
            "0-19",
            "20-39",
            "40-59",
            "60-79",
            "80+"
           ],
           "yaxis": "y"
          },
          {
           "alignmentgroup": "True",
           "hovertemplate": "Sex=Male<br>me=Dec 21<br>cases=%{text}<br>age=%{y}<extra></extra>",
           "legendgroup": "Male",
           "marker": {
            "color": "#EF553B",
            "pattern": {
             "shape": ""
            }
           },
           "name": "Male",
           "offsetgroup": "Male",
           "orientation": "h",
           "showlegend": true,
           "text": [
            320217.2748,
            358686.6936,
            350830.26300000004,
            252489.4248,
            56349.5712
           ],
           "textposition": "auto",
           "texttemplate": "%{text:.3s}",
           "type": "bar",
           "x": [
            320217.2748,
            358686.6936,
            350830.26300000004,
            252489.4248,
            56349.5712
           ],
           "xaxis": "x",
           "y": [
            "0-19",
            "20-39",
            "40-59",
            "60-79",
            "80+"
           ],
           "yaxis": "y"
          }
         ],
         "name": "Dec 21"
        },
        {
         "data": [
          {
           "alignmentgroup": "True",
           "hovertemplate": "Sex=Female<br>me=Jan 22<br>cases=%{text}<br>age=%{y}<extra></extra>",
           "legendgroup": "Female",
           "marker": {
            "color": "#636efa",
            "pattern": {
             "shape": ""
            }
           },
           "name": "Female",
           "offsetgroup": "Female",
           "orientation": "h",
           "showlegend": true,
           "text": [
            398608.8044,
            461101.06159999996,
            467456.20639999997,
            353063.60000000003,
            105919.08
           ],
           "textposition": "auto",
           "texttemplate": "%{text:.3s}",
           "type": "bar",
           "x": [
            398608.8044,
            461101.06159999996,
            467456.20639999997,
            353063.60000000003,
            105919.08
           ],
           "xaxis": "x",
           "y": [
            "0-19",
            "20-39",
            "40-59",
            "60-79",
            "80+"
           ],
           "yaxis": "y"
          },
          {
           "alignmentgroup": "True",
           "hovertemplate": "Sex=Male<br>me=Jan 22<br>cases=%{text}<br>age=%{y}<extra></extra>",
           "legendgroup": "Male",
           "marker": {
            "color": "#EF553B",
            "pattern": {
             "shape": ""
            }
           },
           "name": "Male",
           "offsetgroup": "Male",
           "orientation": "h",
           "showlegend": true,
           "text": [
            417321.1752,
            467456.20639999997,
            457217.362,
            329055.27520000003,
            73437.2288
           ],
           "textposition": "auto",
           "texttemplate": "%{text:.3s}",
           "type": "bar",
           "x": [
            417321.1752,
            467456.20639999997,
            457217.362,
            329055.27520000003,
            73437.2288
           ],
           "xaxis": "x",
           "y": [
            "0-19",
            "20-39",
            "40-59",
            "60-79",
            "80+"
           ],
           "yaxis": "y"
          }
         ],
         "name": "Jan 22"
        },
        {
         "data": [
          {
           "alignmentgroup": "True",
           "hovertemplate": "Sex=Female<br>me=Feb 22<br>cases=%{text}<br>age=%{y}<extra></extra>",
           "legendgroup": "Female",
           "marker": {
            "color": "#636efa",
            "pattern": {
             "shape": ""
            }
           },
           "name": "Female",
           "offsetgroup": "Female",
           "orientation": "h",
           "showlegend": true,
           "text": [
            177344.2232,
            205147.52479999998,
            207974.97919999997,
            157080.80000000002,
            47124.24
           ],
           "textposition": "auto",
           "texttemplate": "%{text:.3s}",
           "type": "bar",
           "x": [
            177344.2232,
            205147.52479999998,
            207974.97919999997,
            157080.80000000002,
            47124.24
           ],
           "xaxis": "x",
           "y": [
            "0-19",
            "20-39",
            "40-59",
            "60-79",
            "80+"
           ],
           "yaxis": "y"
          },
          {
           "alignmentgroup": "True",
           "hovertemplate": "Sex=Male<br>me=Feb 22<br>cases=%{text}<br>age=%{y}<extra></extra>",
           "legendgroup": "Male",
           "marker": {
            "color": "#EF553B",
            "pattern": {
             "shape": ""
            }
           },
           "name": "Male",
           "offsetgroup": "Male",
           "orientation": "h",
           "showlegend": true,
           "text": [
            185669.5056,
            207974.97919999997,
            203419.636,
            146399.30560000002,
            32672.806399999998
           ],
           "textposition": "auto",
           "texttemplate": "%{text:.3s}",
           "type": "bar",
           "x": [
            185669.5056,
            207974.97919999997,
            203419.636,
            146399.30560000002,
            32672.806399999998
           ],
           "xaxis": "x",
           "y": [
            "0-19",
            "20-39",
            "40-59",
            "60-79",
            "80+"
           ],
           "yaxis": "y"
          }
         ],
         "name": "Feb 22"
        },
        {
         "data": [
          {
           "alignmentgroup": "True",
           "hovertemplate": "Sex=Female<br>me=Mar 22<br>cases=%{text}<br>age=%{y}<extra></extra>",
           "legendgroup": "Female",
           "marker": {
            "color": "#636efa",
            "pattern": {
             "shape": ""
            }
           },
           "name": "Female",
           "offsetgroup": "Female",
           "orientation": "h",
           "showlegend": true,
           "text": [
            255235.7396,
            295250.55439999996,
            299319.8576,
            226072.40000000002,
            67821.72
           ],
           "textposition": "auto",
           "texttemplate": "%{text:.3s}",
           "type": "bar",
           "x": [
            255235.7396,
            295250.55439999996,
            299319.8576,
            226072.40000000002,
            67821.72
           ],
           "xaxis": "x",
           "y": [
            "0-19",
            "20-39",
            "40-59",
            "60-79",
            "80+"
           ],
           "yaxis": "y"
          },
          {
           "alignmentgroup": "True",
           "hovertemplate": "Sex=Male<br>me=Mar 22<br>cases=%{text}<br>age=%{y}<extra></extra>",
           "legendgroup": "Male",
           "marker": {
            "color": "#EF553B",
            "pattern": {
             "shape": ""
            }
           },
           "name": "Male",
           "offsetgroup": "Male",
           "orientation": "h",
           "showlegend": true,
           "text": [
            267217.5768,
            299319.8576,
            292763.75800000003,
            210699.4768,
            47023.059199999996
           ],
           "textposition": "auto",
           "texttemplate": "%{text:.3s}",
           "type": "bar",
           "x": [
            267217.5768,
            299319.8576,
            292763.75800000003,
            210699.4768,
            47023.059199999996
           ],
           "xaxis": "x",
           "y": [
            "0-19",
            "20-39",
            "40-59",
            "60-79",
            "80+"
           ],
           "yaxis": "y"
          }
         ],
         "name": "Mar 22"
        },
        {
         "data": [
          {
           "alignmentgroup": "True",
           "hovertemplate": "Sex=Female<br>me=Apr 22<br>cases=%{text}<br>age=%{y}<extra></extra>",
           "legendgroup": "Female",
           "marker": {
            "color": "#636efa",
            "pattern": {
             "shape": ""
            }
           },
           "name": "Female",
           "offsetgroup": "Female",
           "orientation": "h",
           "showlegend": true,
           "text": [
            100584.3035,
            116353.499,
            117957.146,
            89091.5,
            26727.45
           ],
           "textposition": "auto",
           "texttemplate": "%{text:.3s}",
           "type": "bar",
           "x": [
            100584.3035,
            116353.499,
            117957.146,
            89091.5,
            26727.45
           ],
           "xaxis": "x",
           "y": [
            "0-19",
            "20-39",
            "40-59",
            "60-79",
            "80+"
           ],
           "yaxis": "y"
          },
          {
           "alignmentgroup": "True",
           "hovertemplate": "Sex=Male<br>me=Apr 22<br>cases=%{text}<br>age=%{y}<extra></extra>",
           "legendgroup": "Male",
           "marker": {
            "color": "#EF553B",
            "pattern": {
             "shape": ""
            }
           },
           "name": "Male",
           "offsetgroup": "Male",
           "orientation": "h",
           "showlegend": true,
           "text": [
            105306.153,
            117957.146,
            115373.49250000001,
            83033.278,
            18531.032
           ],
           "textposition": "auto",
           "texttemplate": "%{text:.3s}",
           "type": "bar",
           "x": [
            105306.153,
            117957.146,
            115373.49250000001,
            83033.278,
            18531.032
           ],
           "xaxis": "x",
           "y": [
            "0-19",
            "20-39",
            "40-59",
            "60-79",
            "80+"
           ],
           "yaxis": "y"
          }
         ],
         "name": "Apr 22"
        },
        {
         "data": [
          {
           "alignmentgroup": "True",
           "hovertemplate": "Sex=Female<br>me=May 22<br>cases=%{text}<br>age=%{y}<extra></extra>",
           "legendgroup": "Female",
           "marker": {
            "color": "#636efa",
            "pattern": {
             "shape": ""
            }
           },
           "name": "Female",
           "offsetgroup": "Female",
           "orientation": "h",
           "showlegend": true,
           "text": [
            30051.9478,
            34763.3692,
            35242.4968,
            26618.2,
            7985.46
           ],
           "textposition": "auto",
           "texttemplate": "%{text:.3s}",
           "type": "bar",
           "x": [
            30051.9478,
            34763.3692,
            35242.4968,
            26618.2,
            7985.46
           ],
           "xaxis": "x",
           "y": [
            "0-19",
            "20-39",
            "40-59",
            "60-79",
            "80+"
           ],
           "yaxis": "y"
          },
          {
           "alignmentgroup": "True",
           "hovertemplate": "Sex=Male<br>me=May 22<br>cases=%{text}<br>age=%{y}<extra></extra>",
           "legendgroup": "Male",
           "marker": {
            "color": "#EF553B",
            "pattern": {
             "shape": ""
            }
           },
           "name": "Male",
           "offsetgroup": "Male",
           "orientation": "h",
           "showlegend": true,
           "text": [
            31462.7124,
            35242.4968,
            34470.569,
            24808.1624,
            5536.585599999999
           ],
           "textposition": "auto",
           "texttemplate": "%{text:.3s}",
           "type": "bar",
           "x": [
            31462.7124,
            35242.4968,
            34470.569,
            24808.1624,
            5536.585599999999
           ],
           "xaxis": "x",
           "y": [
            "0-19",
            "20-39",
            "40-59",
            "60-79",
            "80+"
           ],
           "yaxis": "y"
          }
         ],
         "name": "May 22"
        },
        {
         "data": [
          {
           "alignmentgroup": "True",
           "hovertemplate": "Sex=Female<br>me=Jun 22<br>cases=%{text}<br>age=%{y}<extra></extra>",
           "legendgroup": "Female",
           "marker": {
            "color": "#636efa",
            "pattern": {
             "shape": ""
            }
           },
           "name": "Female",
           "offsetgroup": "Female",
           "orientation": "h",
           "showlegend": true,
           "text": [
            47390.6782,
            54820.394799999995,
            55575.9592,
            41975.8,
            12592.74
           ],
           "textposition": "auto",
           "texttemplate": "%{text:.3s}",
           "type": "bar",
           "x": [
            47390.6782,
            54820.394799999995,
            55575.9592,
            41975.8,
            12592.74
           ],
           "xaxis": "x",
           "y": [
            "0-19",
            "20-39",
            "40-59",
            "60-79",
            "80+"
           ],
           "yaxis": "y"
          },
          {
           "alignmentgroup": "True",
           "hovertemplate": "Sex=Male<br>me=Jun 22<br>cases=%{text}<br>age=%{y}<extra></extra>",
           "legendgroup": "Male",
           "marker": {
            "color": "#EF553B",
            "pattern": {
             "shape": ""
            }
           },
           "name": "Male",
           "offsetgroup": "Male",
           "orientation": "h",
           "showlegend": true,
           "text": [
            49615.395599999996,
            55575.9592,
            54358.661,
            39121.4456,
            8730.9664
           ],
           "textposition": "auto",
           "texttemplate": "%{text:.3s}",
           "type": "bar",
           "x": [
            49615.395599999996,
            55575.9592,
            54358.661,
            39121.4456,
            8730.9664
           ],
           "xaxis": "x",
           "y": [
            "0-19",
            "20-39",
            "40-59",
            "60-79",
            "80+"
           ],
           "yaxis": "y"
          }
         ],
         "name": "Jun 22"
        },
        {
         "data": [
          {
           "alignmentgroup": "True",
           "hovertemplate": "Sex=Female<br>me=Jul 22<br>cases=%{text}<br>age=%{y}<extra></extra>",
           "legendgroup": "Female",
           "marker": {
            "color": "#636efa",
            "pattern": {
             "shape": ""
            }
           },
           "name": "Female",
           "offsetgroup": "Female",
           "orientation": "h",
           "showlegend": true,
           "text": [
            65949.1802,
            76288.4228,
            77339.8712,
            58413.8,
            17524.14
           ],
           "textposition": "auto",
           "texttemplate": "%{text:.3s}",
           "type": "bar",
           "x": [
            65949.1802,
            76288.4228,
            77339.8712,
            58413.8,
            17524.14
           ],
           "xaxis": "x",
           "y": [
            "0-19",
            "20-39",
            "40-59",
            "60-79",
            "80+"
           ],
           "yaxis": "y"
          },
          {
           "alignmentgroup": "True",
           "hovertemplate": "Sex=Male<br>me=Jul 22<br>cases=%{text}<br>age=%{y}<extra></extra>",
           "legendgroup": "Male",
           "marker": {
            "color": "#EF553B",
            "pattern": {
             "shape": ""
            }
           },
           "name": "Male",
           "offsetgroup": "Male",
           "orientation": "h",
           "showlegend": true,
           "text": [
            69045.1116,
            77339.8712,
            75645.871,
            54441.6616,
            12150.070399999999
           ],
           "textposition": "auto",
           "texttemplate": "%{text:.3s}",
           "type": "bar",
           "x": [
            69045.1116,
            77339.8712,
            75645.871,
            54441.6616,
            12150.070399999999
           ],
           "xaxis": "x",
           "y": [
            "0-19",
            "20-39",
            "40-59",
            "60-79",
            "80+"
           ],
           "yaxis": "y"
          }
         ],
         "name": "Jul 22"
        },
        {
         "data": [
          {
           "alignmentgroup": "True",
           "hovertemplate": "Sex=Female<br>me=Aug 22<br>cases=%{text}<br>age=%{y}<extra></extra>",
           "legendgroup": "Female",
           "marker": {
            "color": "#636efa",
            "pattern": {
             "shape": ""
            }
           },
           "name": "Female",
           "offsetgroup": "Female",
           "orientation": "h",
           "showlegend": true,
           "text": [
            24534.6377,
            28381.0778,
            28772.241199999997,
            21731.300000000003,
            6519.389999999999
           ],
           "textposition": "auto",
           "texttemplate": "%{text:.3s}",
           "type": "bar",
           "x": [
            24534.6377,
            28381.0778,
            28772.241199999997,
            21731.300000000003,
            6519.389999999999
           ],
           "xaxis": "x",
           "y": [
            "0-19",
            "20-39",
            "40-59",
            "60-79",
            "80+"
           ],
           "yaxis": "y"
          },
          {
           "alignmentgroup": "True",
           "hovertemplate": "Sex=Male<br>me=Aug 22<br>cases=%{text}<br>age=%{y}<extra></extra>",
           "legendgroup": "Male",
           "marker": {
            "color": "#EF553B",
            "pattern": {
             "shape": ""
            }
           },
           "name": "Male",
           "offsetgroup": "Male",
           "orientation": "h",
           "showlegend": true,
           "text": [
            25686.3966,
            28772.241199999997,
            28142.0335,
            20253.5716,
            4520.1104
           ],
           "textposition": "auto",
           "texttemplate": "%{text:.3s}",
           "type": "bar",
           "x": [
            25686.3966,
            28772.241199999997,
            28142.0335,
            20253.5716,
            4520.1104
           ],
           "xaxis": "x",
           "y": [
            "0-19",
            "20-39",
            "40-59",
            "60-79",
            "80+"
           ],
           "yaxis": "y"
          }
         ],
         "name": "Aug 22"
        },
        {
         "data": [
          {
           "alignmentgroup": "True",
           "hovertemplate": "Sex=Female<br>me=Sep 22<br>cases=%{text}<br>age=%{y}<extra></extra>",
           "legendgroup": "Female",
           "marker": {
            "color": "#636efa",
            "pattern": {
             "shape": ""
            }
           },
           "name": "Female",
           "offsetgroup": "Female",
           "orientation": "h",
           "showlegend": true,
           "text": [
            17054.674,
            19728.435999999998,
            20000.343999999997,
            15106,
            4531.8
           ],
           "textposition": "auto",
           "texttemplate": "%{text:.3s}",
           "type": "bar",
           "x": [
            17054.674,
            19728.435999999998,
            20000.343999999997,
            15106,
            4531.8
           ],
           "xaxis": "x",
           "y": [
            "0-19",
            "20-39",
            "40-59",
            "60-79",
            "80+"
           ],
           "yaxis": "y"
          },
          {
           "alignmentgroup": "True",
           "hovertemplate": "Sex=Male<br>me=Sep 22<br>cases=%{text}<br>age=%{y}<extra></extra>",
           "legendgroup": "Male",
           "marker": {
            "color": "#EF553B",
            "pattern": {
             "shape": ""
            }
           },
           "name": "Male",
           "offsetgroup": "Male",
           "orientation": "h",
           "showlegend": true,
           "text": [
            17855.292,
            20000.343999999997,
            19562.27,
            14078.792000000001,
            3142.048
           ],
           "textposition": "auto",
           "texttemplate": "%{text:.3s}",
           "type": "bar",
           "x": [
            17855.292,
            20000.343999999997,
            19562.27,
            14078.792000000001,
            3142.048
           ],
           "xaxis": "x",
           "y": [
            "0-19",
            "20-39",
            "40-59",
            "60-79",
            "80+"
           ],
           "yaxis": "y"
          }
         ],
         "name": "Sep 22"
        },
        {
         "data": [
          {
           "alignmentgroup": "True",
           "hovertemplate": "Sex=Female<br>me=Oct 22<br>cases=%{text}<br>age=%{y}<extra></extra>",
           "legendgroup": "Female",
           "marker": {
            "color": "#636efa",
            "pattern": {
             "shape": ""
            }
           },
           "name": "Female",
           "offsetgroup": "Female",
           "orientation": "h",
           "showlegend": true,
           "text": [
            20623.443,
            23856.701999999997,
            24185.507999999998,
            18267,
            5480.099999999999
           ],
           "textposition": "auto",
           "texttemplate": "%{text:.3s}",
           "type": "bar",
           "x": [
            20623.443,
            23856.701999999997,
            24185.507999999998,
            18267,
            5480.099999999999
           ],
           "xaxis": "x",
           "y": [
            "0-19",
            "20-39",
            "40-59",
            "60-79",
            "80+"
           ],
           "yaxis": "y"
          },
          {
           "alignmentgroup": "True",
           "hovertemplate": "Sex=Male<br>me=Oct 22<br>cases=%{text}<br>age=%{y}<extra></extra>",
           "legendgroup": "Male",
           "marker": {
            "color": "#EF553B",
            "pattern": {
             "shape": ""
            }
           },
           "name": "Male",
           "offsetgroup": "Male",
           "orientation": "h",
           "showlegend": true,
           "text": [
            21591.594,
            24185.507999999998,
            23655.765,
            17024.844,
            3799.5359999999996
           ],
           "textposition": "auto",
           "texttemplate": "%{text:.3s}",
           "type": "bar",
           "x": [
            21591.594,
            24185.507999999998,
            23655.765,
            17024.844,
            3799.5359999999996
           ],
           "xaxis": "x",
           "y": [
            "0-19",
            "20-39",
            "40-59",
            "60-79",
            "80+"
           ],
           "yaxis": "y"
          }
         ],
         "name": "Oct 22"
        }
       ],
       "layout": {
        "autosize": true,
        "barmode": "relative",
        "legend": {
         "title": {
          "text": "Sex"
         },
         "tracegroupgap": 0
        },
        "margin": {
         "t": 60
        },
        "sliders": [
         {
          "active": 17,
          "currentvalue": {
           "prefix": "me="
          },
          "len": 0.9,
          "pad": {
           "b": 10,
           "t": 60
          },
          "steps": [
           {
            "args": [
             [
              "Mar 20"
             ],
             {
              "frame": {
               "duration": 0,
               "redraw": true
              },
              "fromcurrent": true,
              "mode": "immediate",
              "transition": {
               "duration": 0,
               "easing": "linear"
              }
             }
            ],
            "label": "Mar 20",
            "method": "animate"
           },
           {
            "args": [
             [
              "Apr 20"
             ],
             {
              "frame": {
               "duration": 0,
               "redraw": true
              },
              "fromcurrent": true,
              "mode": "immediate",
              "transition": {
               "duration": 0,
               "easing": "linear"
              }
             }
            ],
            "label": "Apr 20",
            "method": "animate"
           },
           {
            "args": [
             [
              "May 20"
             ],
             {
              "frame": {
               "duration": 0,
               "redraw": true
              },
              "fromcurrent": true,
              "mode": "immediate",
              "transition": {
               "duration": 0,
               "easing": "linear"
              }
             }
            ],
            "label": "May 20",
            "method": "animate"
           },
           {
            "args": [
             [
              "Jun 20"
             ],
             {
              "frame": {
               "duration": 0,
               "redraw": true
              },
              "fromcurrent": true,
              "mode": "immediate",
              "transition": {
               "duration": 0,
               "easing": "linear"
              }
             }
            ],
            "label": "Jun 20",
            "method": "animate"
           },
           {
            "args": [
             [
              "Jul 20"
             ],
             {
              "frame": {
               "duration": 0,
               "redraw": true
              },
              "fromcurrent": true,
              "mode": "immediate",
              "transition": {
               "duration": 0,
               "easing": "linear"
              }
             }
            ],
            "label": "Jul 20",
            "method": "animate"
           },
           {
            "args": [
             [
              "Aug 20"
             ],
             {
              "frame": {
               "duration": 0,
               "redraw": true
              },
              "fromcurrent": true,
              "mode": "immediate",
              "transition": {
               "duration": 0,
               "easing": "linear"
              }
             }
            ],
            "label": "Aug 20",
            "method": "animate"
           },
           {
            "args": [
             [
              "Sep 20"
             ],
             {
              "frame": {
               "duration": 0,
               "redraw": true
              },
              "fromcurrent": true,
              "mode": "immediate",
              "transition": {
               "duration": 0,
               "easing": "linear"
              }
             }
            ],
            "label": "Sep 20",
            "method": "animate"
           },
           {
            "args": [
             [
              "Oct 20"
             ],
             {
              "frame": {
               "duration": 0,
               "redraw": true
              },
              "fromcurrent": true,
              "mode": "immediate",
              "transition": {
               "duration": 0,
               "easing": "linear"
              }
             }
            ],
            "label": "Oct 20",
            "method": "animate"
           },
           {
            "args": [
             [
              "Nov 20"
             ],
             {
              "frame": {
               "duration": 0,
               "redraw": true
              },
              "fromcurrent": true,
              "mode": "immediate",
              "transition": {
               "duration": 0,
               "easing": "linear"
              }
             }
            ],
            "label": "Nov 20",
            "method": "animate"
           },
           {
            "args": [
             [
              "Dec 20"
             ],
             {
              "frame": {
               "duration": 0,
               "redraw": true
              },
              "fromcurrent": true,
              "mode": "immediate",
              "transition": {
               "duration": 0,
               "easing": "linear"
              }
             }
            ],
            "label": "Dec 20",
            "method": "animate"
           },
           {
            "args": [
             [
              "Jan 21"
             ],
             {
              "frame": {
               "duration": 0,
               "redraw": true
              },
              "fromcurrent": true,
              "mode": "immediate",
              "transition": {
               "duration": 0,
               "easing": "linear"
              }
             }
            ],
            "label": "Jan 21",
            "method": "animate"
           },
           {
            "args": [
             [
              "Feb 21"
             ],
             {
              "frame": {
               "duration": 0,
               "redraw": true
              },
              "fromcurrent": true,
              "mode": "immediate",
              "transition": {
               "duration": 0,
               "easing": "linear"
              }
             }
            ],
            "label": "Feb 21",
            "method": "animate"
           },
           {
            "args": [
             [
              "Mar 21"
             ],
             {
              "frame": {
               "duration": 0,
               "redraw": true
              },
              "fromcurrent": true,
              "mode": "immediate",
              "transition": {
               "duration": 0,
               "easing": "linear"
              }
             }
            ],
            "label": "Mar 21",
            "method": "animate"
           },
           {
            "args": [
             [
              "Apr 21"
             ],
             {
              "frame": {
               "duration": 0,
               "redraw": true
              },
              "fromcurrent": true,
              "mode": "immediate",
              "transition": {
               "duration": 0,
               "easing": "linear"
              }
             }
            ],
            "label": "Apr 21",
            "method": "animate"
           },
           {
            "args": [
             [
              "May 21"
             ],
             {
              "frame": {
               "duration": 0,
               "redraw": true
              },
              "fromcurrent": true,
              "mode": "immediate",
              "transition": {
               "duration": 0,
               "easing": "linear"
              }
             }
            ],
            "label": "May 21",
            "method": "animate"
           },
           {
            "args": [
             [
              "Jun 21"
             ],
             {
              "frame": {
               "duration": 0,
               "redraw": true
              },
              "fromcurrent": true,
              "mode": "immediate",
              "transition": {
               "duration": 0,
               "easing": "linear"
              }
             }
            ],
            "label": "Jun 21",
            "method": "animate"
           },
           {
            "args": [
             [
              "Jul 21"
             ],
             {
              "frame": {
               "duration": 0,
               "redraw": true
              },
              "fromcurrent": true,
              "mode": "immediate",
              "transition": {
               "duration": 0,
               "easing": "linear"
              }
             }
            ],
            "label": "Jul 21",
            "method": "animate"
           },
           {
            "args": [
             [
              "Aug 21"
             ],
             {
              "frame": {
               "duration": 0,
               "redraw": true
              },
              "fromcurrent": true,
              "mode": "immediate",
              "transition": {
               "duration": 0,
               "easing": "linear"
              }
             }
            ],
            "label": "Aug 21",
            "method": "animate"
           },
           {
            "args": [
             [
              "Sep 21"
             ],
             {
              "frame": {
               "duration": 0,
               "redraw": true
              },
              "fromcurrent": true,
              "mode": "immediate",
              "transition": {
               "duration": 0,
               "easing": "linear"
              }
             }
            ],
            "label": "Sep 21",
            "method": "animate"
           },
           {
            "args": [
             [
              "Oct 21"
             ],
             {
              "frame": {
               "duration": 0,
               "redraw": true
              },
              "fromcurrent": true,
              "mode": "immediate",
              "transition": {
               "duration": 0,
               "easing": "linear"
              }
             }
            ],
            "label": "Oct 21",
            "method": "animate"
           },
           {
            "args": [
             [
              "Nov 21"
             ],
             {
              "frame": {
               "duration": 0,
               "redraw": true
              },
              "fromcurrent": true,
              "mode": "immediate",
              "transition": {
               "duration": 0,
               "easing": "linear"
              }
             }
            ],
            "label": "Nov 21",
            "method": "animate"
           },
           {
            "args": [
             [
              "Dec 21"
             ],
             {
              "frame": {
               "duration": 0,
               "redraw": true
              },
              "fromcurrent": true,
              "mode": "immediate",
              "transition": {
               "duration": 0,
               "easing": "linear"
              }
             }
            ],
            "label": "Dec 21",
            "method": "animate"
           },
           {
            "args": [
             [
              "Jan 22"
             ],
             {
              "frame": {
               "duration": 0,
               "redraw": true
              },
              "fromcurrent": true,
              "mode": "immediate",
              "transition": {
               "duration": 0,
               "easing": "linear"
              }
             }
            ],
            "label": "Jan 22",
            "method": "animate"
           },
           {
            "args": [
             [
              "Feb 22"
             ],
             {
              "frame": {
               "duration": 0,
               "redraw": true
              },
              "fromcurrent": true,
              "mode": "immediate",
              "transition": {
               "duration": 0,
               "easing": "linear"
              }
             }
            ],
            "label": "Feb 22",
            "method": "animate"
           },
           {
            "args": [
             [
              "Mar 22"
             ],
             {
              "frame": {
               "duration": 0,
               "redraw": true
              },
              "fromcurrent": true,
              "mode": "immediate",
              "transition": {
               "duration": 0,
               "easing": "linear"
              }
             }
            ],
            "label": "Mar 22",
            "method": "animate"
           },
           {
            "args": [
             [
              "Apr 22"
             ],
             {
              "frame": {
               "duration": 0,
               "redraw": true
              },
              "fromcurrent": true,
              "mode": "immediate",
              "transition": {
               "duration": 0,
               "easing": "linear"
              }
             }
            ],
            "label": "Apr 22",
            "method": "animate"
           },
           {
            "args": [
             [
              "May 22"
             ],
             {
              "frame": {
               "duration": 0,
               "redraw": true
              },
              "fromcurrent": true,
              "mode": "immediate",
              "transition": {
               "duration": 0,
               "easing": "linear"
              }
             }
            ],
            "label": "May 22",
            "method": "animate"
           },
           {
            "args": [
             [
              "Jun 22"
             ],
             {
              "frame": {
               "duration": 0,
               "redraw": true
              },
              "fromcurrent": true,
              "mode": "immediate",
              "transition": {
               "duration": 0,
               "easing": "linear"
              }
             }
            ],
            "label": "Jun 22",
            "method": "animate"
           },
           {
            "args": [
             [
              "Jul 22"
             ],
             {
              "frame": {
               "duration": 0,
               "redraw": true
              },
              "fromcurrent": true,
              "mode": "immediate",
              "transition": {
               "duration": 0,
               "easing": "linear"
              }
             }
            ],
            "label": "Jul 22",
            "method": "animate"
           },
           {
            "args": [
             [
              "Aug 22"
             ],
             {
              "frame": {
               "duration": 0,
               "redraw": true
              },
              "fromcurrent": true,
              "mode": "immediate",
              "transition": {
               "duration": 0,
               "easing": "linear"
              }
             }
            ],
            "label": "Aug 22",
            "method": "animate"
           },
           {
            "args": [
             [
              "Sep 22"
             ],
             {
              "frame": {
               "duration": 0,
               "redraw": true
              },
              "fromcurrent": true,
              "mode": "immediate",
              "transition": {
               "duration": 0,
               "easing": "linear"
              }
             }
            ],
            "label": "Sep 22",
            "method": "animate"
           },
           {
            "args": [
             [
              "Oct 22"
             ],
             {
              "frame": {
               "duration": 0,
               "redraw": true
              },
              "fromcurrent": true,
              "mode": "immediate",
              "transition": {
               "duration": 0,
               "easing": "linear"
              }
             }
            ],
            "label": "Oct 22",
            "method": "animate"
           }
          ],
          "x": 0.1,
          "xanchor": "left",
          "y": 0,
          "yanchor": "top"
         }
        ],
        "template": {
         "data": {
          "bar": [
           {
            "error_x": {
             "color": "#2a3f5f"
            },
            "error_y": {
             "color": "#2a3f5f"
            },
            "marker": {
             "line": {
              "color": "#E5ECF6",
              "width": 0.5
             },
             "pattern": {
              "fillmode": "overlay",
              "size": 10,
              "solidity": 0.2
             }
            },
            "type": "bar"
           }
          ],
          "barpolar": [
           {
            "marker": {
             "line": {
              "color": "#E5ECF6",
              "width": 0.5
             },
             "pattern": {
              "fillmode": "overlay",
              "size": 10,
              "solidity": 0.2
             }
            },
            "type": "barpolar"
           }
          ],
          "carpet": [
           {
            "aaxis": {
             "endlinecolor": "#2a3f5f",
             "gridcolor": "white",
             "linecolor": "white",
             "minorgridcolor": "white",
             "startlinecolor": "#2a3f5f"
            },
            "baxis": {
             "endlinecolor": "#2a3f5f",
             "gridcolor": "white",
             "linecolor": "white",
             "minorgridcolor": "white",
             "startlinecolor": "#2a3f5f"
            },
            "type": "carpet"
           }
          ],
          "choropleth": [
           {
            "colorbar": {
             "outlinewidth": 0,
             "ticks": ""
            },
            "type": "choropleth"
           }
          ],
          "contour": [
           {
            "colorbar": {
             "outlinewidth": 0,
             "ticks": ""
            },
            "colorscale": [
             [
              0,
              "#0d0887"
             ],
             [
              0.1111111111111111,
              "#46039f"
             ],
             [
              0.2222222222222222,
              "#7201a8"
             ],
             [
              0.3333333333333333,
              "#9c179e"
             ],
             [
              0.4444444444444444,
              "#bd3786"
             ],
             [
              0.5555555555555556,
              "#d8576b"
             ],
             [
              0.6666666666666666,
              "#ed7953"
             ],
             [
              0.7777777777777778,
              "#fb9f3a"
             ],
             [
              0.8888888888888888,
              "#fdca26"
             ],
             [
              1,
              "#f0f921"
             ]
            ],
            "type": "contour"
           }
          ],
          "contourcarpet": [
           {
            "colorbar": {
             "outlinewidth": 0,
             "ticks": ""
            },
            "type": "contourcarpet"
           }
          ],
          "heatmap": [
           {
            "colorbar": {
             "outlinewidth": 0,
             "ticks": ""
            },
            "colorscale": [
             [
              0,
              "#0d0887"
             ],
             [
              0.1111111111111111,
              "#46039f"
             ],
             [
              0.2222222222222222,
              "#7201a8"
             ],
             [
              0.3333333333333333,
              "#9c179e"
             ],
             [
              0.4444444444444444,
              "#bd3786"
             ],
             [
              0.5555555555555556,
              "#d8576b"
             ],
             [
              0.6666666666666666,
              "#ed7953"
             ],
             [
              0.7777777777777778,
              "#fb9f3a"
             ],
             [
              0.8888888888888888,
              "#fdca26"
             ],
             [
              1,
              "#f0f921"
             ]
            ],
            "type": "heatmap"
           }
          ],
          "heatmapgl": [
           {
            "colorbar": {
             "outlinewidth": 0,
             "ticks": ""
            },
            "colorscale": [
             [
              0,
              "#0d0887"
             ],
             [
              0.1111111111111111,
              "#46039f"
             ],
             [
              0.2222222222222222,
              "#7201a8"
             ],
             [
              0.3333333333333333,
              "#9c179e"
             ],
             [
              0.4444444444444444,
              "#bd3786"
             ],
             [
              0.5555555555555556,
              "#d8576b"
             ],
             [
              0.6666666666666666,
              "#ed7953"
             ],
             [
              0.7777777777777778,
              "#fb9f3a"
             ],
             [
              0.8888888888888888,
              "#fdca26"
             ],
             [
              1,
              "#f0f921"
             ]
            ],
            "type": "heatmapgl"
           }
          ],
          "histogram": [
           {
            "marker": {
             "pattern": {
              "fillmode": "overlay",
              "size": 10,
              "solidity": 0.2
             }
            },
            "type": "histogram"
           }
          ],
          "histogram2d": [
           {
            "colorbar": {
             "outlinewidth": 0,
             "ticks": ""
            },
            "colorscale": [
             [
              0,
              "#0d0887"
             ],
             [
              0.1111111111111111,
              "#46039f"
             ],
             [
              0.2222222222222222,
              "#7201a8"
             ],
             [
              0.3333333333333333,
              "#9c179e"
             ],
             [
              0.4444444444444444,
              "#bd3786"
             ],
             [
              0.5555555555555556,
              "#d8576b"
             ],
             [
              0.6666666666666666,
              "#ed7953"
             ],
             [
              0.7777777777777778,
              "#fb9f3a"
             ],
             [
              0.8888888888888888,
              "#fdca26"
             ],
             [
              1,
              "#f0f921"
             ]
            ],
            "type": "histogram2d"
           }
          ],
          "histogram2dcontour": [
           {
            "colorbar": {
             "outlinewidth": 0,
             "ticks": ""
            },
            "colorscale": [
             [
              0,
              "#0d0887"
             ],
             [
              0.1111111111111111,
              "#46039f"
             ],
             [
              0.2222222222222222,
              "#7201a8"
             ],
             [
              0.3333333333333333,
              "#9c179e"
             ],
             [
              0.4444444444444444,
              "#bd3786"
             ],
             [
              0.5555555555555556,
              "#d8576b"
             ],
             [
              0.6666666666666666,
              "#ed7953"
             ],
             [
              0.7777777777777778,
              "#fb9f3a"
             ],
             [
              0.8888888888888888,
              "#fdca26"
             ],
             [
              1,
              "#f0f921"
             ]
            ],
            "type": "histogram2dcontour"
           }
          ],
          "mesh3d": [
           {
            "colorbar": {
             "outlinewidth": 0,
             "ticks": ""
            },
            "type": "mesh3d"
           }
          ],
          "parcoords": [
           {
            "line": {
             "colorbar": {
              "outlinewidth": 0,
              "ticks": ""
             }
            },
            "type": "parcoords"
           }
          ],
          "pie": [
           {
            "automargin": true,
            "type": "pie"
           }
          ],
          "scatter": [
           {
            "fillpattern": {
             "fillmode": "overlay",
             "size": 10,
             "solidity": 0.2
            },
            "type": "scatter"
           }
          ],
          "scatter3d": [
           {
            "line": {
             "colorbar": {
              "outlinewidth": 0,
              "ticks": ""
             }
            },
            "marker": {
             "colorbar": {
              "outlinewidth": 0,
              "ticks": ""
             }
            },
            "type": "scatter3d"
           }
          ],
          "scattercarpet": [
           {
            "marker": {
             "colorbar": {
              "outlinewidth": 0,
              "ticks": ""
             }
            },
            "type": "scattercarpet"
           }
          ],
          "scattergeo": [
           {
            "marker": {
             "colorbar": {
              "outlinewidth": 0,
              "ticks": ""
             }
            },
            "type": "scattergeo"
           }
          ],
          "scattergl": [
           {
            "marker": {
             "colorbar": {
              "outlinewidth": 0,
              "ticks": ""
             }
            },
            "type": "scattergl"
           }
          ],
          "scattermapbox": [
           {
            "marker": {
             "colorbar": {
              "outlinewidth": 0,
              "ticks": ""
             }
            },
            "type": "scattermapbox"
           }
          ],
          "scatterpolar": [
           {
            "marker": {
             "colorbar": {
              "outlinewidth": 0,
              "ticks": ""
             }
            },
            "type": "scatterpolar"
           }
          ],
          "scatterpolargl": [
           {
            "marker": {
             "colorbar": {
              "outlinewidth": 0,
              "ticks": ""
             }
            },
            "type": "scatterpolargl"
           }
          ],
          "scatterternary": [
           {
            "marker": {
             "colorbar": {
              "outlinewidth": 0,
              "ticks": ""
             }
            },
            "type": "scatterternary"
           }
          ],
          "surface": [
           {
            "colorbar": {
             "outlinewidth": 0,
             "ticks": ""
            },
            "colorscale": [
             [
              0,
              "#0d0887"
             ],
             [
              0.1111111111111111,
              "#46039f"
             ],
             [
              0.2222222222222222,
              "#7201a8"
             ],
             [
              0.3333333333333333,
              "#9c179e"
             ],
             [
              0.4444444444444444,
              "#bd3786"
             ],
             [
              0.5555555555555556,
              "#d8576b"
             ],
             [
              0.6666666666666666,
              "#ed7953"
             ],
             [
              0.7777777777777778,
              "#fb9f3a"
             ],
             [
              0.8888888888888888,
              "#fdca26"
             ],
             [
              1,
              "#f0f921"
             ]
            ],
            "type": "surface"
           }
          ],
          "table": [
           {
            "cells": {
             "fill": {
              "color": "#EBF0F8"
             },
             "line": {
              "color": "white"
             }
            },
            "header": {
             "fill": {
              "color": "#C8D4E3"
             },
             "line": {
              "color": "white"
             }
            },
            "type": "table"
           }
          ]
         },
         "layout": {
          "annotationdefaults": {
           "arrowcolor": "#2a3f5f",
           "arrowhead": 0,
           "arrowwidth": 1
          },
          "autotypenumbers": "strict",
          "coloraxis": {
           "colorbar": {
            "outlinewidth": 0,
            "ticks": ""
           }
          },
          "colorscale": {
           "diverging": [
            [
             0,
             "#8e0152"
            ],
            [
             0.1,
             "#c51b7d"
            ],
            [
             0.2,
             "#de77ae"
            ],
            [
             0.3,
             "#f1b6da"
            ],
            [
             0.4,
             "#fde0ef"
            ],
            [
             0.5,
             "#f7f7f7"
            ],
            [
             0.6,
             "#e6f5d0"
            ],
            [
             0.7,
             "#b8e186"
            ],
            [
             0.8,
             "#7fbc41"
            ],
            [
             0.9,
             "#4d9221"
            ],
            [
             1,
             "#276419"
            ]
           ],
           "sequential": [
            [
             0,
             "#0d0887"
            ],
            [
             0.1111111111111111,
             "#46039f"
            ],
            [
             0.2222222222222222,
             "#7201a8"
            ],
            [
             0.3333333333333333,
             "#9c179e"
            ],
            [
             0.4444444444444444,
             "#bd3786"
            ],
            [
             0.5555555555555556,
             "#d8576b"
            ],
            [
             0.6666666666666666,
             "#ed7953"
            ],
            [
             0.7777777777777778,
             "#fb9f3a"
            ],
            [
             0.8888888888888888,
             "#fdca26"
            ],
            [
             1,
             "#f0f921"
            ]
           ],
           "sequentialminus": [
            [
             0,
             "#0d0887"
            ],
            [
             0.1111111111111111,
             "#46039f"
            ],
            [
             0.2222222222222222,
             "#7201a8"
            ],
            [
             0.3333333333333333,
             "#9c179e"
            ],
            [
             0.4444444444444444,
             "#bd3786"
            ],
            [
             0.5555555555555556,
             "#d8576b"
            ],
            [
             0.6666666666666666,
             "#ed7953"
            ],
            [
             0.7777777777777778,
             "#fb9f3a"
            ],
            [
             0.8888888888888888,
             "#fdca26"
            ],
            [
             1,
             "#f0f921"
            ]
           ]
          },
          "colorway": [
           "#636efa",
           "#EF553B",
           "#00cc96",
           "#ab63fa",
           "#FFA15A",
           "#19d3f3",
           "#FF6692",
           "#B6E880",
           "#FF97FF",
           "#FECB52"
          ],
          "font": {
           "color": "#2a3f5f"
          },
          "geo": {
           "bgcolor": "white",
           "lakecolor": "white",
           "landcolor": "#E5ECF6",
           "showlakes": true,
           "showland": true,
           "subunitcolor": "white"
          },
          "hoverlabel": {
           "align": "left"
          },
          "hovermode": "closest",
          "mapbox": {
           "style": "light"
          },
          "paper_bgcolor": "white",
          "plot_bgcolor": "#E5ECF6",
          "polar": {
           "angularaxis": {
            "gridcolor": "white",
            "linecolor": "white",
            "ticks": ""
           },
           "bgcolor": "#E5ECF6",
           "radialaxis": {
            "gridcolor": "white",
            "linecolor": "white",
            "ticks": ""
           }
          },
          "scene": {
           "xaxis": {
            "backgroundcolor": "#E5ECF6",
            "gridcolor": "white",
            "gridwidth": 2,
            "linecolor": "white",
            "showbackground": true,
            "ticks": "",
            "zerolinecolor": "white"
           },
           "yaxis": {
            "backgroundcolor": "#E5ECF6",
            "gridcolor": "white",
            "gridwidth": 2,
            "linecolor": "white",
            "showbackground": true,
            "ticks": "",
            "zerolinecolor": "white"
           },
           "zaxis": {
            "backgroundcolor": "#E5ECF6",
            "gridcolor": "white",
            "gridwidth": 2,
            "linecolor": "white",
            "showbackground": true,
            "ticks": "",
            "zerolinecolor": "white"
           }
          },
          "shapedefaults": {
           "line": {
            "color": "#2a3f5f"
           }
          },
          "ternary": {
           "aaxis": {
            "gridcolor": "white",
            "linecolor": "white",
            "ticks": ""
           },
           "baxis": {
            "gridcolor": "white",
            "linecolor": "white",
            "ticks": ""
           },
           "bgcolor": "#E5ECF6",
           "caxis": {
            "gridcolor": "white",
            "linecolor": "white",
            "ticks": ""
           }
          },
          "title": {
           "x": 0.05
          },
          "xaxis": {
           "automargin": true,
           "gridcolor": "white",
           "linecolor": "white",
           "ticks": "",
           "title": {
            "standoff": 15
           },
           "zerolinecolor": "white",
           "zerolinewidth": 2
          },
          "yaxis": {
           "automargin": true,
           "gridcolor": "white",
           "linecolor": "white",
           "ticks": "",
           "title": {
            "standoff": 15
           },
           "zerolinecolor": "white",
           "zerolinewidth": 2
          }
         }
        },
        "updatemenus": [
         {
          "active": 1,
          "buttons": [
           {
            "args": [
             null,
             {
              "frame": {
               "duration": 500,
               "redraw": true
              },
              "fromcurrent": true,
              "mode": "immediate",
              "transition": {
               "duration": 500,
               "easing": "linear"
              }
             }
            ],
            "label": "&#9654;",
            "method": "animate"
           },
           {
            "args": [
             [
              null
             ],
             {
              "frame": {
               "duration": 0,
               "redraw": true
              },
              "fromcurrent": true,
              "mode": "immediate",
              "transition": {
               "duration": 0,
               "easing": "linear"
              }
             }
            ],
            "label": "&#9724;",
            "method": "animate"
           }
          ],
          "direction": "left",
          "pad": {
           "r": 10,
           "t": 70
          },
          "showactive": false,
          "type": "buttons",
          "x": 0.1,
          "xanchor": "right",
          "y": 0,
          "yanchor": "top"
         }
        ],
        "xaxis": {
         "anchor": "y",
         "domain": [
          0,
          1
         ],
         "range": [
          0,
          934912.4127999999
         ],
         "title": {
          "text": "cases"
         },
         "type": "linear"
        },
        "yaxis": {
         "anchor": "x",
         "autorange": true,
         "domain": [
          0,
          1
         ],
         "range": [
          -0.5,
          4.5
         ],
         "title": {
          "text": "age"
         },
         "type": "category"
        }
       }
      },
      "image/png": "[encoded data removed]",
      "text/html": [
       "<div>                            <div id=\"7a315565-5e6a-4983-b227-141ecb024560\" class=\"plotly-graph-div\" style=\"height:525px; width:100%;\"></div>            <script type=\"text/javascript\">                require([\"plotly\"], function(Plotly) {                    window.PLOTLYENV=window.PLOTLYENV || {};                                    if (document.getElementById(\"7a315565-5e6a-4983-b227-141ecb024560\")) {                    Plotly.newPlot(                        \"7a315565-5e6a-4983-b227-141ecb024560\",                        [{\"alignmentgroup\":\"True\",\"hovertemplate\":\"Sex=Female<br>me=Mar 20<br>cases=%{text}<br>age=%{y}<extra></extra>\",\"legendgroup\":\"Female\",\"marker\":{\"color\":\"#636efa\",\"pattern\":{\"shape\":\"\"}},\"name\":\"Female\",\"offsetgroup\":\"Female\",\"orientation\":\"h\",\"showlegend\":true,\"text\":[4337.9567,5018.0437999999995,5087.205199999999,3842.3,1152.69],\"textposition\":\"auto\",\"x\":[4337.9567,5018.0437999999995,5087.205199999999,3842.3,1152.69],\"xaxis\":\"x\",\"y\":[\"0-19\",\"20-39\",\"40-59\",\"60-79\",\"80+\"],\"yaxis\":\"y\",\"type\":\"bar\",\"texttemplate\":\"%{text:.3s}\"},{\"alignmentgroup\":\"True\",\"hovertemplate\":\"Sex=Male<br>me=Mar 20<br>cases=%{text}<br>age=%{y}<extra></extra>\",\"legendgroup\":\"Male\",\"marker\":{\"color\":\"#EF553B\",\"pattern\":{\"shape\":\"\"}},\"name\":\"Male\",\"offsetgroup\":\"Male\",\"orientation\":\"h\",\"showlegend\":true,\"text\":[4541.5986,5087.205199999999,4975.7785,3581.0236,799.1984],\"textposition\":\"auto\",\"x\":[4541.5986,5087.205199999999,4975.7785,3581.0236,799.1984],\"xaxis\":\"x\",\"y\":[\"0-19\",\"20-39\",\"40-59\",\"60-79\",\"80+\"],\"yaxis\":\"y\",\"type\":\"bar\",\"texttemplate\":\"%{text:.3s}\"}],                        {\"template\":{\"data\":{\"histogram2dcontour\":[{\"type\":\"histogram2dcontour\",\"colorbar\":{\"outlinewidth\":0,\"ticks\":\"\"},\"colorscale\":[[0.0,\"#0d0887\"],[0.1111111111111111,\"#46039f\"],[0.2222222222222222,\"#7201a8\"],[0.3333333333333333,\"#9c179e\"],[0.4444444444444444,\"#bd3786\"],[0.5555555555555556,\"#d8576b\"],[0.6666666666666666,\"#ed7953\"],[0.7777777777777778,\"#fb9f3a\"],[0.8888888888888888,\"#fdca26\"],[1.0,\"#f0f921\"]]}],\"choropleth\":[{\"type\":\"choropleth\",\"colorbar\":{\"outlinewidth\":0,\"ticks\":\"\"}}],\"histogram2d\":[{\"type\":\"histogram2d\",\"colorbar\":{\"outlinewidth\":0,\"ticks\":\"\"},\"colorscale\":[[0.0,\"#0d0887\"],[0.1111111111111111,\"#46039f\"],[0.2222222222222222,\"#7201a8\"],[0.3333333333333333,\"#9c179e\"],[0.4444444444444444,\"#bd3786\"],[0.5555555555555556,\"#d8576b\"],[0.6666666666666666,\"#ed7953\"],[0.7777777777777778,\"#fb9f3a\"],[0.8888888888888888,\"#fdca26\"],[1.0,\"#f0f921\"]]}],\"heatmap\":[{\"type\":\"heatmap\",\"colorbar\":{\"outlinewidth\":0,\"ticks\":\"\"},\"colorscale\":[[0.0,\"#0d0887\"],[0.1111111111111111,\"#46039f\"],[0.2222222222222222,\"#7201a8\"],[0.3333333333333333,\"#9c179e\"],[0.4444444444444444,\"#bd3786\"],[0.5555555555555556,\"#d8576b\"],[0.6666666666666666,\"#ed7953\"],[0.7777777777777778,\"#fb9f3a\"],[0.8888888888888888,\"#fdca26\"],[1.0,\"#f0f921\"]]}],\"heatmapgl\":[{\"type\":\"heatmapgl\",\"colorbar\":{\"outlinewidth\":0,\"ticks\":\"\"},\"colorscale\":[[0.0,\"#0d0887\"],[0.1111111111111111,\"#46039f\"],[0.2222222222222222,\"#7201a8\"],[0.3333333333333333,\"#9c179e\"],[0.4444444444444444,\"#bd3786\"],[0.5555555555555556,\"#d8576b\"],[0.6666666666666666,\"#ed7953\"],[0.7777777777777778,\"#fb9f3a\"],[0.8888888888888888,\"#fdca26\"],[1.0,\"#f0f921\"]]}],\"contourcarpet\":[{\"type\":\"contourcarpet\",\"colorbar\":{\"outlinewidth\":0,\"ticks\":\"\"}}],\"contour\":[{\"type\":\"contour\",\"colorbar\":{\"outlinewidth\":0,\"ticks\":\"\"},\"colorscale\":[[0.0,\"#0d0887\"],[0.1111111111111111,\"#46039f\"],[0.2222222222222222,\"#7201a8\"],[0.3333333333333333,\"#9c179e\"],[0.4444444444444444,\"#bd3786\"],[0.5555555555555556,\"#d8576b\"],[0.6666666666666666,\"#ed7953\"],[0.7777777777777778,\"#fb9f3a\"],[0.8888888888888888,\"#fdca26\"],[1.0,\"#f0f921\"]]}],\"surface\":[{\"type\":\"surface\",\"colorbar\":{\"outlinewidth\":0,\"ticks\":\"\"},\"colorscale\":[[0.0,\"#0d0887\"],[0.1111111111111111,\"#46039f\"],[0.2222222222222222,\"#7201a8\"],[0.3333333333333333,\"#9c179e\"],[0.4444444444444444,\"#bd3786\"],[0.5555555555555556,\"#d8576b\"],[0.6666666666666666,\"#ed7953\"],[0.7777777777777778,\"#fb9f3a\"],[0.8888888888888888,\"#fdca26\"],[1.0,\"#f0f921\"]]}],\"mesh3d\":[{\"type\":\"mesh3d\",\"colorbar\":{\"outlinewidth\":0,\"ticks\":\"\"}}],\"scatter\":[{\"fillpattern\":{\"fillmode\":\"overlay\",\"size\":10,\"solidity\":0.2},\"type\":\"scatter\"}],\"parcoords\":[{\"type\":\"parcoords\",\"line\":{\"colorbar\":{\"outlinewidth\":0,\"ticks\":\"\"}}}],\"scatterpolargl\":[{\"type\":\"scatterpolargl\",\"marker\":{\"colorbar\":{\"outlinewidth\":0,\"ticks\":\"\"}}}],\"bar\":[{\"error_x\":{\"color\":\"#2a3f5f\"},\"error_y\":{\"color\":\"#2a3f5f\"},\"marker\":{\"line\":{\"color\":\"#E5ECF6\",\"width\":0.5},\"pattern\":{\"fillmode\":\"overlay\",\"size\":10,\"solidity\":0.2}},\"type\":\"bar\"}],\"scattergeo\":[{\"type\":\"scattergeo\",\"marker\":{\"colorbar\":{\"outlinewidth\":0,\"ticks\":\"\"}}}],\"scatterpolar\":[{\"type\":\"scatterpolar\",\"marker\":{\"colorbar\":{\"outlinewidth\":0,\"ticks\":\"\"}}}],\"histogram\":[{\"marker\":{\"pattern\":{\"fillmode\":\"overlay\",\"size\":10,\"solidity\":0.2}},\"type\":\"histogram\"}],\"scattergl\":[{\"type\":\"scattergl\",\"marker\":{\"colorbar\":{\"outlinewidth\":0,\"ticks\":\"\"}}}],\"scatter3d\":[{\"type\":\"scatter3d\",\"line\":{\"colorbar\":{\"outlinewidth\":0,\"ticks\":\"\"}},\"marker\":{\"colorbar\":{\"outlinewidth\":0,\"ticks\":\"\"}}}],\"scattermapbox\":[{\"type\":\"scattermapbox\",\"marker\":{\"colorbar\":{\"outlinewidth\":0,\"ticks\":\"\"}}}],\"scatterternary\":[{\"type\":\"scatterternary\",\"marker\":{\"colorbar\":{\"outlinewidth\":0,\"ticks\":\"\"}}}],\"scattercarpet\":[{\"type\":\"scattercarpet\",\"marker\":{\"colorbar\":{\"outlinewidth\":0,\"ticks\":\"\"}}}],\"carpet\":[{\"aaxis\":{\"endlinecolor\":\"#2a3f5f\",\"gridcolor\":\"white\",\"linecolor\":\"white\",\"minorgridcolor\":\"white\",\"startlinecolor\":\"#2a3f5f\"},\"baxis\":{\"endlinecolor\":\"#2a3f5f\",\"gridcolor\":\"white\",\"linecolor\":\"white\",\"minorgridcolor\":\"white\",\"startlinecolor\":\"#2a3f5f\"},\"type\":\"carpet\"}],\"table\":[{\"cells\":{\"fill\":{\"color\":\"#EBF0F8\"},\"line\":{\"color\":\"white\"}},\"header\":{\"fill\":{\"color\":\"#C8D4E3\"},\"line\":{\"color\":\"white\"}},\"type\":\"table\"}],\"barpolar\":[{\"marker\":{\"line\":{\"color\":\"#E5ECF6\",\"width\":0.5},\"pattern\":{\"fillmode\":\"overlay\",\"size\":10,\"solidity\":0.2}},\"type\":\"barpolar\"}],\"pie\":[{\"automargin\":true,\"type\":\"pie\"}]},\"layout\":{\"autotypenumbers\":\"strict\",\"colorway\":[\"#636efa\",\"#EF553B\",\"#00cc96\",\"#ab63fa\",\"#FFA15A\",\"#19d3f3\",\"#FF6692\",\"#B6E880\",\"#FF97FF\",\"#FECB52\"],\"font\":{\"color\":\"#2a3f5f\"},\"hovermode\":\"closest\",\"hoverlabel\":{\"align\":\"left\"},\"paper_bgcolor\":\"white\",\"plot_bgcolor\":\"#E5ECF6\",\"polar\":{\"bgcolor\":\"#E5ECF6\",\"angularaxis\":{\"gridcolor\":\"white\",\"linecolor\":\"white\",\"ticks\":\"\"},\"radialaxis\":{\"gridcolor\":\"white\",\"linecolor\":\"white\",\"ticks\":\"\"}},\"ternary\":{\"bgcolor\":\"#E5ECF6\",\"aaxis\":{\"gridcolor\":\"white\",\"linecolor\":\"white\",\"ticks\":\"\"},\"baxis\":{\"gridcolor\":\"white\",\"linecolor\":\"white\",\"ticks\":\"\"},\"caxis\":{\"gridcolor\":\"white\",\"linecolor\":\"white\",\"ticks\":\"\"}},\"coloraxis\":{\"colorbar\":{\"outlinewidth\":0,\"ticks\":\"\"}},\"colorscale\":{\"sequential\":[[0.0,\"#0d0887\"],[0.1111111111111111,\"#46039f\"],[0.2222222222222222,\"#7201a8\"],[0.3333333333333333,\"#9c179e\"],[0.4444444444444444,\"#bd3786\"],[0.5555555555555556,\"#d8576b\"],[0.6666666666666666,\"#ed7953\"],[0.7777777777777778,\"#fb9f3a\"],[0.8888888888888888,\"#fdca26\"],[1.0,\"#f0f921\"]],\"sequentialminus\":[[0.0,\"#0d0887\"],[0.1111111111111111,\"#46039f\"],[0.2222222222222222,\"#7201a8\"],[0.3333333333333333,\"#9c179e\"],[0.4444444444444444,\"#bd3786\"],[0.5555555555555556,\"#d8576b\"],[0.6666666666666666,\"#ed7953\"],[0.7777777777777778,\"#fb9f3a\"],[0.8888888888888888,\"#fdca26\"],[1.0,\"#f0f921\"]],\"diverging\":[[0,\"#8e0152\"],[0.1,\"#c51b7d\"],[0.2,\"#de77ae\"],[0.3,\"#f1b6da\"],[0.4,\"#fde0ef\"],[0.5,\"#f7f7f7\"],[0.6,\"#e6f5d0\"],[0.7,\"#b8e186\"],[0.8,\"#7fbc41\"],[0.9,\"#4d9221\"],[1,\"#276419\"]]},\"xaxis\":{\"gridcolor\":\"white\",\"linecolor\":\"white\",\"ticks\":\"\",\"title\":{\"standoff\":15},\"zerolinecolor\":\"white\",\"automargin\":true,\"zerolinewidth\":2},\"yaxis\":{\"gridcolor\":\"white\",\"linecolor\":\"white\",\"ticks\":\"\",\"title\":{\"standoff\":15},\"zerolinecolor\":\"white\",\"automargin\":true,\"zerolinewidth\":2},\"scene\":{\"xaxis\":{\"backgroundcolor\":\"#E5ECF6\",\"gridcolor\":\"white\",\"linecolor\":\"white\",\"showbackground\":true,\"ticks\":\"\",\"zerolinecolor\":\"white\",\"gridwidth\":2},\"yaxis\":{\"backgroundcolor\":\"#E5ECF6\",\"gridcolor\":\"white\",\"linecolor\":\"white\",\"showbackground\":true,\"ticks\":\"\",\"zerolinecolor\":\"white\",\"gridwidth\":2},\"zaxis\":{\"backgroundcolor\":\"#E5ECF6\",\"gridcolor\":\"white\",\"linecolor\":\"white\",\"showbackground\":true,\"ticks\":\"\",\"zerolinecolor\":\"white\",\"gridwidth\":2}},\"shapedefaults\":{\"line\":{\"color\":\"#2a3f5f\"}},\"annotationdefaults\":{\"arrowcolor\":\"#2a3f5f\",\"arrowhead\":0,\"arrowwidth\":1},\"geo\":{\"bgcolor\":\"white\",\"landcolor\":\"#E5ECF6\",\"subunitcolor\":\"white\",\"showland\":true,\"showlakes\":true,\"lakecolor\":\"white\"},\"title\":{\"x\":0.05},\"mapbox\":{\"style\":\"light\"}}},\"xaxis\":{\"anchor\":\"y\",\"domain\":[0.0,1.0],\"title\":{\"text\":\"cases\"},\"range\":[0,934912.4127999999]},\"yaxis\":{\"anchor\":\"x\",\"domain\":[0.0,1.0],\"title\":{\"text\":\"age\"}},\"legend\":{\"title\":{\"text\":\"Sex\"},\"tracegroupgap\":0},\"margin\":{\"t\":60},\"barmode\":\"relative\",\"updatemenus\":[{\"buttons\":[{\"args\":[null,{\"frame\":{\"duration\":500,\"redraw\":true},\"mode\":\"immediate\",\"fromcurrent\":true,\"transition\":{\"duration\":500,\"easing\":\"linear\"}}],\"label\":\"&#9654;\",\"method\":\"animate\"},{\"args\":[[null],{\"frame\":{\"duration\":0,\"redraw\":true},\"mode\":\"immediate\",\"fromcurrent\":true,\"transition\":{\"duration\":0,\"easing\":\"linear\"}}],\"label\":\"&#9724;\",\"method\":\"animate\"}],\"direction\":\"left\",\"pad\":{\"r\":10,\"t\":70},\"showactive\":false,\"type\":\"buttons\",\"x\":0.1,\"xanchor\":\"right\",\"y\":0,\"yanchor\":\"top\"}],\"sliders\":[{\"active\":0,\"currentvalue\":{\"prefix\":\"me=\"},\"len\":0.9,\"pad\":{\"b\":10,\"t\":60},\"steps\":[{\"args\":[[\"Mar 20\"],{\"frame\":{\"duration\":0,\"redraw\":true},\"mode\":\"immediate\",\"fromcurrent\":true,\"transition\":{\"duration\":0,\"easing\":\"linear\"}}],\"label\":\"Mar 20\",\"method\":\"animate\"},{\"args\":[[\"Apr 20\"],{\"frame\":{\"duration\":0,\"redraw\":true},\"mode\":\"immediate\",\"fromcurrent\":true,\"transition\":{\"duration\":0,\"easing\":\"linear\"}}],\"label\":\"Apr 20\",\"method\":\"animate\"},{\"args\":[[\"May 20\"],{\"frame\":{\"duration\":0,\"redraw\":true},\"mode\":\"immediate\",\"fromcurrent\":true,\"transition\":{\"duration\":0,\"easing\":\"linear\"}}],\"label\":\"May 20\",\"method\":\"animate\"},{\"args\":[[\"Jun 20\"],{\"frame\":{\"duration\":0,\"redraw\":true},\"mode\":\"immediate\",\"fromcurrent\":true,\"transition\":{\"duration\":0,\"easing\":\"linear\"}}],\"label\":\"Jun 20\",\"method\":\"animate\"},{\"args\":[[\"Jul 20\"],{\"frame\":{\"duration\":0,\"redraw\":true},\"mode\":\"immediate\",\"fromcurrent\":true,\"transition\":{\"duration\":0,\"easing\":\"linear\"}}],\"label\":\"Jul 20\",\"method\":\"animate\"},{\"args\":[[\"Aug 20\"],{\"frame\":{\"duration\":0,\"redraw\":true},\"mode\":\"immediate\",\"fromcurrent\":true,\"transition\":{\"duration\":0,\"easing\":\"linear\"}}],\"label\":\"Aug 20\",\"method\":\"animate\"},{\"args\":[[\"Sep 20\"],{\"frame\":{\"duration\":0,\"redraw\":true},\"mode\":\"immediate\",\"fromcurrent\":true,\"transition\":{\"duration\":0,\"easing\":\"linear\"}}],\"label\":\"Sep 20\",\"method\":\"animate\"},{\"args\":[[\"Oct 20\"],{\"frame\":{\"duration\":0,\"redraw\":true},\"mode\":\"immediate\",\"fromcurrent\":true,\"transition\":{\"duration\":0,\"easing\":\"linear\"}}],\"label\":\"Oct 20\",\"method\":\"animate\"},{\"args\":[[\"Nov 20\"],{\"frame\":{\"duration\":0,\"redraw\":true},\"mode\":\"immediate\",\"fromcurrent\":true,\"transition\":{\"duration\":0,\"easing\":\"linear\"}}],\"label\":\"Nov 20\",\"method\":\"animate\"},{\"args\":[[\"Dec 20\"],{\"frame\":{\"duration\":0,\"redraw\":true},\"mode\":\"immediate\",\"fromcurrent\":true,\"transition\":{\"duration\":0,\"easing\":\"linear\"}}],\"label\":\"Dec 20\",\"method\":\"animate\"},{\"args\":[[\"Jan 21\"],{\"frame\":{\"duration\":0,\"redraw\":true},\"mode\":\"immediate\",\"fromcurrent\":true,\"transition\":{\"duration\":0,\"easing\":\"linear\"}}],\"label\":\"Jan 21\",\"method\":\"animate\"},{\"args\":[[\"Feb 21\"],{\"frame\":{\"duration\":0,\"redraw\":true},\"mode\":\"immediate\",\"fromcurrent\":true,\"transition\":{\"duration\":0,\"easing\":\"linear\"}}],\"label\":\"Feb 21\",\"method\":\"animate\"},{\"args\":[[\"Mar 21\"],{\"frame\":{\"duration\":0,\"redraw\":true},\"mode\":\"immediate\",\"fromcurrent\":true,\"transition\":{\"duration\":0,\"easing\":\"linear\"}}],\"label\":\"Mar 21\",\"method\":\"animate\"},{\"args\":[[\"Apr 21\"],{\"frame\":{\"duration\":0,\"redraw\":true},\"mode\":\"immediate\",\"fromcurrent\":true,\"transition\":{\"duration\":0,\"easing\":\"linear\"}}],\"label\":\"Apr 21\",\"method\":\"animate\"},{\"args\":[[\"May 21\"],{\"frame\":{\"duration\":0,\"redraw\":true},\"mode\":\"immediate\",\"fromcurrent\":true,\"transition\":{\"duration\":0,\"easing\":\"linear\"}}],\"label\":\"May 21\",\"method\":\"animate\"},{\"args\":[[\"Jun 21\"],{\"frame\":{\"duration\":0,\"redraw\":true},\"mode\":\"immediate\",\"fromcurrent\":true,\"transition\":{\"duration\":0,\"easing\":\"linear\"}}],\"label\":\"Jun 21\",\"method\":\"animate\"},{\"args\":[[\"Jul 21\"],{\"frame\":{\"duration\":0,\"redraw\":true},\"mode\":\"immediate\",\"fromcurrent\":true,\"transition\":{\"duration\":0,\"easing\":\"linear\"}}],\"label\":\"Jul 21\",\"method\":\"animate\"},{\"args\":[[\"Aug 21\"],{\"frame\":{\"duration\":0,\"redraw\":true},\"mode\":\"immediate\",\"fromcurrent\":true,\"transition\":{\"duration\":0,\"easing\":\"linear\"}}],\"label\":\"Aug 21\",\"method\":\"animate\"},{\"args\":[[\"Sep 21\"],{\"frame\":{\"duration\":0,\"redraw\":true},\"mode\":\"immediate\",\"fromcurrent\":true,\"transition\":{\"duration\":0,\"easing\":\"linear\"}}],\"label\":\"Sep 21\",\"method\":\"animate\"},{\"args\":[[\"Oct 21\"],{\"frame\":{\"duration\":0,\"redraw\":true},\"mode\":\"immediate\",\"fromcurrent\":true,\"transition\":{\"duration\":0,\"easing\":\"linear\"}}],\"label\":\"Oct 21\",\"method\":\"animate\"},{\"args\":[[\"Nov 21\"],{\"frame\":{\"duration\":0,\"redraw\":true},\"mode\":\"immediate\",\"fromcurrent\":true,\"transition\":{\"duration\":0,\"easing\":\"linear\"}}],\"label\":\"Nov 21\",\"method\":\"animate\"},{\"args\":[[\"Dec 21\"],{\"frame\":{\"duration\":0,\"redraw\":true},\"mode\":\"immediate\",\"fromcurrent\":true,\"transition\":{\"duration\":0,\"easing\":\"linear\"}}],\"label\":\"Dec 21\",\"method\":\"animate\"},{\"args\":[[\"Jan 22\"],{\"frame\":{\"duration\":0,\"redraw\":true},\"mode\":\"immediate\",\"fromcurrent\":true,\"transition\":{\"duration\":0,\"easing\":\"linear\"}}],\"label\":\"Jan 22\",\"method\":\"animate\"},{\"args\":[[\"Feb 22\"],{\"frame\":{\"duration\":0,\"redraw\":true},\"mode\":\"immediate\",\"fromcurrent\":true,\"transition\":{\"duration\":0,\"easing\":\"linear\"}}],\"label\":\"Feb 22\",\"method\":\"animate\"},{\"args\":[[\"Mar 22\"],{\"frame\":{\"duration\":0,\"redraw\":true},\"mode\":\"immediate\",\"fromcurrent\":true,\"transition\":{\"duration\":0,\"easing\":\"linear\"}}],\"label\":\"Mar 22\",\"method\":\"animate\"},{\"args\":[[\"Apr 22\"],{\"frame\":{\"duration\":0,\"redraw\":true},\"mode\":\"immediate\",\"fromcurrent\":true,\"transition\":{\"duration\":0,\"easing\":\"linear\"}}],\"label\":\"Apr 22\",\"method\":\"animate\"},{\"args\":[[\"May 22\"],{\"frame\":{\"duration\":0,\"redraw\":true},\"mode\":\"immediate\",\"fromcurrent\":true,\"transition\":{\"duration\":0,\"easing\":\"linear\"}}],\"label\":\"May 22\",\"method\":\"animate\"},{\"args\":[[\"Jun 22\"],{\"frame\":{\"duration\":0,\"redraw\":true},\"mode\":\"immediate\",\"fromcurrent\":true,\"transition\":{\"duration\":0,\"easing\":\"linear\"}}],\"label\":\"Jun 22\",\"method\":\"animate\"},{\"args\":[[\"Jul 22\"],{\"frame\":{\"duration\":0,\"redraw\":true},\"mode\":\"immediate\",\"fromcurrent\":true,\"transition\":{\"duration\":0,\"easing\":\"linear\"}}],\"label\":\"Jul 22\",\"method\":\"animate\"},{\"args\":[[\"Aug 22\"],{\"frame\":{\"duration\":0,\"redraw\":true},\"mode\":\"immediate\",\"fromcurrent\":true,\"transition\":{\"duration\":0,\"easing\":\"linear\"}}],\"label\":\"Aug 22\",\"method\":\"animate\"},{\"args\":[[\"Sep 22\"],{\"frame\":{\"duration\":0,\"redraw\":true},\"mode\":\"immediate\",\"fromcurrent\":true,\"transition\":{\"duration\":0,\"easing\":\"linear\"}}],\"label\":\"Sep 22\",\"method\":\"animate\"},{\"args\":[[\"Oct 22\"],{\"frame\":{\"duration\":0,\"redraw\":true},\"mode\":\"immediate\",\"fromcurrent\":true,\"transition\":{\"duration\":0,\"easing\":\"linear\"}}],\"label\":\"Oct 22\",\"method\":\"animate\"}],\"x\":0.1,\"xanchor\":\"left\",\"y\":0,\"yanchor\":\"top\"}]},                        {\"responsive\": true}                    ).then(function(){\n",
       "                            Plotly.addFrames('7a315565-5e6a-4983-b227-141ecb024560', [{\"data\":[{\"alignmentgroup\":\"True\",\"hovertemplate\":\"Sex=Female<br>me=Mar 20<br>cases=%{text}<br>age=%{y}<extra></extra>\",\"legendgroup\":\"Female\",\"marker\":{\"color\":\"#636efa\",\"pattern\":{\"shape\":\"\"}},\"name\":\"Female\",\"offsetgroup\":\"Female\",\"orientation\":\"h\",\"showlegend\":true,\"text\":[4337.9567,5018.0437999999995,5087.205199999999,3842.3,1152.69],\"textposition\":\"auto\",\"x\":[4337.9567,5018.0437999999995,5087.205199999999,3842.3,1152.69],\"xaxis\":\"x\",\"y\":[\"0-19\",\"20-39\",\"40-59\",\"60-79\",\"80+\"],\"yaxis\":\"y\",\"type\":\"bar\",\"texttemplate\":\"%{text:.3s}\"},{\"alignmentgroup\":\"True\",\"hovertemplate\":\"Sex=Male<br>me=Mar 20<br>cases=%{text}<br>age=%{y}<extra></extra>\",\"legendgroup\":\"Male\",\"marker\":{\"color\":\"#EF553B\",\"pattern\":{\"shape\":\"\"}},\"name\":\"Male\",\"offsetgroup\":\"Male\",\"orientation\":\"h\",\"showlegend\":true,\"text\":[4541.5986,5087.205199999999,4975.7785,3581.0236,799.1984],\"textposition\":\"auto\",\"x\":[4541.5986,5087.205199999999,4975.7785,3581.0236,799.1984],\"xaxis\":\"x\",\"y\":[\"0-19\",\"20-39\",\"40-59\",\"60-79\",\"80+\"],\"yaxis\":\"y\",\"type\":\"bar\",\"texttemplate\":\"%{text:.3s}\"}],\"name\":\"Mar 20\"},{\"data\":[{\"alignmentgroup\":\"True\",\"hovertemplate\":\"Sex=Female<br>me=Apr 20<br>cases=%{text}<br>age=%{y}<extra></extra>\",\"legendgroup\":\"Female\",\"marker\":{\"color\":\"#636efa\",\"pattern\":{\"shape\":\"\"}},\"name\":\"Female\",\"offsetgroup\":\"Female\",\"orientation\":\"h\",\"showlegend\":true,\"text\":[15699.7611,18161.1054,18411.4116,13905.900000000001,4171.7699999999995],\"textposition\":\"auto\",\"x\":[15699.7611,18161.1054,18411.4116,13905.900000000001,4171.7699999999995],\"xaxis\":\"x\",\"y\":[\"0-19\",\"20-39\",\"40-59\",\"60-79\",\"80+\"],\"yaxis\":\"y\",\"type\":\"bar\",\"texttemplate\":\"%{text:.3s}\"},{\"alignmentgroup\":\"True\",\"hovertemplate\":\"Sex=Male<br>me=Apr 20<br>cases=%{text}<br>age=%{y}<extra></extra>\",\"legendgroup\":\"Male\",\"marker\":{\"color\":\"#EF553B\",\"pattern\":{\"shape\":\"\"}},\"name\":\"Male\",\"offsetgroup\":\"Male\",\"orientation\":\"h\",\"showlegend\":true,\"text\":[16436.7738,18411.4116,18008.1405,12960.2988,2892.4272],\"textposition\":\"auto\",\"x\":[16436.7738,18411.4116,18008.1405,12960.2988,2892.4272],\"xaxis\":\"x\",\"y\":[\"0-19\",\"20-39\",\"40-59\",\"60-79\",\"80+\"],\"yaxis\":\"y\",\"type\":\"bar\",\"texttemplate\":\"%{text:.3s}\"}],\"name\":\"Apr 20\"},{\"data\":[{\"alignmentgroup\":\"True\",\"hovertemplate\":\"Sex=Female<br>me=May 20<br>cases=%{text}<br>age=%{y}<extra></extra>\",\"legendgroup\":\"Female\",\"marker\":{\"color\":\"#636efa\",\"pattern\":{\"shape\":\"\"}},\"name\":\"Female\",\"offsetgroup\":\"Female\",\"orientation\":\"h\",\"showlegend\":true,\"text\":[8874.1658,10265.421199999999,10406.904799999998,7860.200000000001,2358.06],\"textposition\":\"auto\",\"x\":[8874.1658,10265.421199999999,10406.904799999998,7860.200000000001,2358.06],\"xaxis\":\"x\",\"y\":[\"0-19\",\"20-39\",\"40-59\",\"60-79\",\"80+\"],\"yaxis\":\"y\",\"type\":\"bar\",\"texttemplate\":\"%{text:.3s}\"},{\"alignmentgroup\":\"True\",\"hovertemplate\":\"Sex=Male<br>me=May 20<br>cases=%{text}<br>age=%{y}<extra></extra>\",\"legendgroup\":\"Male\",\"marker\":{\"color\":\"#EF553B\",\"pattern\":{\"shape\":\"\"}},\"name\":\"Male\",\"offsetgroup\":\"Male\",\"orientation\":\"h\",\"showlegend\":true,\"text\":[9290.7564,10406.904799999998,10178.959,7325.7064,1634.9216],\"textposition\":\"auto\",\"x\":[9290.7564,10406.904799999998,10178.959,7325.7064,1634.9216],\"xaxis\":\"x\",\"y\":[\"0-19\",\"20-39\",\"40-59\",\"60-79\",\"80+\"],\"yaxis\":\"y\",\"type\":\"bar\",\"texttemplate\":\"%{text:.3s}\"}],\"name\":\"May 20\"},{\"data\":[{\"alignmentgroup\":\"True\",\"hovertemplate\":\"Sex=Female<br>me=Jun 20<br>cases=%{text}<br>age=%{y}<extra></extra>\",\"legendgroup\":\"Female\",\"marker\":{\"color\":\"#636efa\",\"pattern\":{\"shape\":\"\"}},\"name\":\"Female\",\"offsetgroup\":\"Female\",\"orientation\":\"h\",\"showlegend\":true,\"text\":[3112.0885,3599.989,3649.6059999999998,2756.5,826.9499999999999],\"textposition\":\"auto\",\"x\":[3112.0885,3599.989,3649.6059999999998,2756.5,826.9499999999999],\"xaxis\":\"x\",\"y\":[\"0-19\",\"20-39\",\"40-59\",\"60-79\",\"80+\"],\"yaxis\":\"y\",\"type\":\"bar\",\"texttemplate\":\"%{text:.3s}\"},{\"alignmentgroup\":\"True\",\"hovertemplate\":\"Sex=Male<br>me=Jun 20<br>cases=%{text}<br>age=%{y}<extra></extra>\",\"legendgroup\":\"Male\",\"marker\":{\"color\":\"#EF553B\",\"pattern\":{\"shape\":\"\"}},\"name\":\"Male\",\"offsetgroup\":\"Male\",\"orientation\":\"h\",\"showlegend\":true,\"text\":[3258.183,3649.6059999999998,3569.6675,2569.058,573.352],\"textposition\":\"auto\",\"x\":[3258.183,3649.6059999999998,3569.6675,2569.058,573.352],\"xaxis\":\"x\",\"y\":[\"0-19\",\"20-39\",\"40-59\",\"60-79\",\"80+\"],\"yaxis\":\"y\",\"type\":\"bar\",\"texttemplate\":\"%{text:.3s}\"}],\"name\":\"Jun 20\"},{\"data\":[{\"alignmentgroup\":\"True\",\"hovertemplate\":\"Sex=Female<br>me=Jul 20<br>cases=%{text}<br>age=%{y}<extra></extra>\",\"legendgroup\":\"Female\",\"marker\":{\"color\":\"#636efa\",\"pattern\":{\"shape\":\"\"}},\"name\":\"Female\",\"offsetgroup\":\"Female\",\"orientation\":\"h\",\"showlegend\":true,\"text\":[2198.2759,2542.9125999999997,2577.9604,1947.1000000000001,584.13],\"textposition\":\"auto\",\"x\":[2198.2759,2542.9125999999997,2577.9604,1947.1000000000001,584.13],\"xaxis\":\"x\",\"y\":[\"0-19\",\"20-39\",\"40-59\",\"60-79\",\"80+\"],\"yaxis\":\"y\",\"type\":\"bar\",\"texttemplate\":\"%{text:.3s}\"},{\"alignmentgroup\":\"True\",\"hovertemplate\":\"Sex=Male<br>me=Jul 20<br>cases=%{text}<br>age=%{y}<extra></extra>\",\"legendgroup\":\"Male\",\"marker\":{\"color\":\"#EF553B\",\"pattern\":{\"shape\":\"\"}},\"name\":\"Male\",\"offsetgroup\":\"Male\",\"orientation\":\"h\",\"showlegend\":true,\"text\":[2301.4722,2577.9604,2521.4945000000002,1814.6972,404.9968],\"textposition\":\"auto\",\"x\":[2301.4722,2577.9604,2521.4945000000002,1814.6972,404.9968],\"xaxis\":\"x\",\"y\":[\"0-19\",\"20-39\",\"40-59\",\"60-79\",\"80+\"],\"yaxis\":\"y\",\"type\":\"bar\",\"texttemplate\":\"%{text:.3s}\"}],\"name\":\"Jul 20\"},{\"data\":[{\"alignmentgroup\":\"True\",\"hovertemplate\":\"Sex=Female<br>me=Aug 20<br>cases=%{text}<br>age=%{y}<extra></extra>\",\"legendgroup\":\"Female\",\"marker\":{\"color\":\"#636efa\",\"pattern\":{\"shape\":\"\"}},\"name\":\"Female\",\"offsetgroup\":\"Female\",\"orientation\":\"h\",\"showlegend\":true,\"text\":[3690.9268,4269.5752,4328.4208,3269.2000000000003,980.76],\"textposition\":\"auto\",\"x\":[3690.9268,4269.5752,4328.4208,3269.2000000000003,980.76],\"xaxis\":\"x\",\"y\":[\"0-19\",\"20-39\",\"40-59\",\"60-79\",\"80+\"],\"yaxis\":\"y\",\"type\":\"bar\",\"texttemplate\":\"%{text:.3s}\"},{\"alignmentgroup\":\"True\",\"hovertemplate\":\"Sex=Male<br>me=Aug 20<br>cases=%{text}<br>age=%{y}<extra></extra>\",\"legendgroup\":\"Male\",\"marker\":{\"color\":\"#EF553B\",\"pattern\":{\"shape\":\"\"}},\"name\":\"Male\",\"offsetgroup\":\"Male\",\"orientation\":\"h\",\"showlegend\":true,\"text\":[3864.1944,4328.4208,4233.6140000000005,3046.8944,679.9936],\"textposition\":\"auto\",\"x\":[3864.1944,4328.4208,4233.6140000000005,3046.8944,679.9936],\"xaxis\":\"x\",\"y\":[\"0-19\",\"20-39\",\"40-59\",\"60-79\",\"80+\"],\"yaxis\":\"y\",\"type\":\"bar\",\"texttemplate\":\"%{text:.3s}\"}],\"name\":\"Aug 20\"},{\"data\":[{\"alignmentgroup\":\"True\",\"hovertemplate\":\"Sex=Female<br>me=Sep 20<br>cases=%{text}<br>age=%{y}<extra></extra>\",\"legendgroup\":\"Female\",\"marker\":{\"color\":\"#636efa\",\"pattern\":{\"shape\":\"\"}},\"name\":\"Female\",\"offsetgroup\":\"Female\",\"orientation\":\"h\",\"showlegend\":true,\"text\":[13253.4439,15331.264599999999,15542.568399999998,11739.1,3521.73],\"textposition\":\"auto\",\"x\":[13253.4439,15331.264599999999,15542.568399999998,11739.1,3521.73],\"xaxis\":\"x\",\"y\":[\"0-19\",\"20-39\",\"40-59\",\"60-79\",\"80+\"],\"yaxis\":\"y\",\"type\":\"bar\",\"texttemplate\":\"%{text:.3s}\"},{\"alignmentgroup\":\"True\",\"hovertemplate\":\"Sex=Male<br>me=Sep 20<br>cases=%{text}<br>age=%{y}<extra></extra>\",\"legendgroup\":\"Male\",\"marker\":{\"color\":\"#EF553B\",\"pattern\":{\"shape\":\"\"}},\"name\":\"Male\",\"offsetgroup\":\"Male\",\"orientation\":\"h\",\"showlegend\":true,\"text\":[13875.6162,15542.568399999998,15202.1345,10940.8412,2441.7327999999998],\"textposition\":\"auto\",\"x\":[13875.6162,15542.568399999998,15202.1345,10940.8412,2441.7327999999998],\"xaxis\":\"x\",\"y\":[\"0-19\",\"20-39\",\"40-59\",\"60-79\",\"80+\"],\"yaxis\":\"y\",\"type\":\"bar\",\"texttemplate\":\"%{text:.3s}\"}],\"name\":\"Sep 20\"},{\"data\":[{\"alignmentgroup\":\"True\",\"hovertemplate\":\"Sex=Female<br>me=Oct 20<br>cases=%{text}<br>age=%{y}<extra></extra>\",\"legendgroup\":\"Female\",\"marker\":{\"color\":\"#636efa\",\"pattern\":{\"shape\":\"\"}},\"name\":\"Female\",\"offsetgroup\":\"Female\",\"orientation\":\"h\",\"showlegend\":true,\"text\":[63042.9084,72926.51759999999,73931.6304,55839.600000000006,16751.88],\"textposition\":\"auto\",\"x\":[63042.9084,72926.51759999999,73931.6304,55839.600000000006,16751.88],\"xaxis\":\"x\",\"y\":[\"0-19\",\"20-39\",\"40-59\",\"60-79\",\"80+\"],\"yaxis\":\"y\",\"type\":\"bar\",\"texttemplate\":\"%{text:.3s}\"},{\"alignmentgroup\":\"True\",\"hovertemplate\":\"Sex=Male<br>me=Oct 20<br>cases=%{text}<br>age=%{y}<extra></extra>\",\"legendgroup\":\"Male\",\"marker\":{\"color\":\"#EF553B\",\"pattern\":{\"shape\":\"\"}},\"name\":\"Male\",\"offsetgroup\":\"Male\",\"orientation\":\"h\",\"showlegend\":true,\"text\":[66002.4072,73931.6304,72312.282,52042.5072,11614.6368],\"textposition\":\"auto\",\"x\":[66002.4072,73931.6304,72312.282,52042.5072,11614.6368],\"xaxis\":\"x\",\"y\":[\"0-19\",\"20-39\",\"40-59\",\"60-79\",\"80+\"],\"yaxis\":\"y\",\"type\":\"bar\",\"texttemplate\":\"%{text:.3s}\"}],\"name\":\"Oct 20\"},{\"data\":[{\"alignmentgroup\":\"True\",\"hovertemplate\":\"Sex=Female<br>me=Nov 20<br>cases=%{text}<br>age=%{y}<extra></extra>\",\"legendgroup\":\"Female\",\"marker\":{\"color\":\"#636efa\",\"pattern\":{\"shape\":\"\"}},\"name\":\"Female\",\"offsetgroup\":\"Female\",\"orientation\":\"h\",\"showlegend\":true,\"text\":[69771.8613,80710.40819999999,81822.80279999999,61799.700000000004,18539.91],\"textposition\":\"auto\",\"x\":[69771.8613,80710.40819999999,81822.80279999999,61799.700000000004,18539.91],\"xaxis\":\"x\",\"y\":[\"0-19\",\"20-39\",\"40-59\",\"60-79\",\"80+\"],\"yaxis\":\"y\",\"type\":\"bar\",\"texttemplate\":\"%{text:.3s}\"},{\"alignmentgroup\":\"True\",\"hovertemplate\":\"Sex=Male<br>me=Nov 20<br>cases=%{text}<br>age=%{y}<extra></extra>\",\"legendgroup\":\"Male\",\"marker\":{\"color\":\"#EF553B\",\"pattern\":{\"shape\":\"\"}},\"name\":\"Male\",\"offsetgroup\":\"Male\",\"orientation\":\"h\",\"showlegend\":true,\"text\":[73047.2454,81822.80279999999,80030.6115,57597.320400000004,12854.337599999999],\"textposition\":\"auto\",\"x\":[73047.2454,81822.80279999999,80030.6115,57597.320400000004,12854.337599999999],\"xaxis\":\"x\",\"y\":[\"0-19\",\"20-39\",\"40-59\",\"60-79\",\"80+\"],\"yaxis\":\"y\",\"type\":\"bar\",\"texttemplate\":\"%{text:.3s}\"}],\"name\":\"Nov 20\"},{\"data\":[{\"alignmentgroup\":\"True\",\"hovertemplate\":\"Sex=Female<br>me=Dec 20<br>cases=%{text}<br>age=%{y}<extra></extra>\",\"legendgroup\":\"Female\",\"marker\":{\"color\":\"#636efa\",\"pattern\":{\"shape\":\"\"}},\"name\":\"Female\",\"offsetgroup\":\"Female\",\"orientation\":\"h\",\"showlegend\":true,\"text\":[96994.9867,112201.4638,113747.88519999999,85912.3,25773.69],\"textposition\":\"auto\",\"x\":[96994.9867,112201.4638,113747.88519999999,85912.3,25773.69],\"xaxis\":\"x\",\"y\":[\"0-19\",\"20-39\",\"40-59\",\"60-79\",\"80+\"],\"yaxis\":\"y\",\"type\":\"bar\",\"texttemplate\":\"%{text:.3s}\"},{\"alignmentgroup\":\"True\",\"hovertemplate\":\"Sex=Male<br>me=Dec 20<br>cases=%{text}<br>age=%{y}<extra></extra>\",\"legendgroup\":\"Male\",\"marker\":{\"color\":\"#EF553B\",\"pattern\":{\"shape\":\"\"}},\"name\":\"Male\",\"offsetgroup\":\"Male\",\"orientation\":\"h\",\"showlegend\":true,\"text\":[101548.3386,113747.88519999999,111256.42850000001,80070.2636,17869.7584],\"textposition\":\"auto\",\"x\":[101548.3386,113747.88519999999,111256.42850000001,80070.2636,17869.7584],\"xaxis\":\"x\",\"y\":[\"0-19\",\"20-39\",\"40-59\",\"60-79\",\"80+\"],\"yaxis\":\"y\",\"type\":\"bar\",\"texttemplate\":\"%{text:.3s}\"}],\"name\":\"Dec 20\"},{\"data\":[{\"alignmentgroup\":\"True\",\"hovertemplate\":\"Sex=Female<br>me=Jan 21<br>cases=%{text}<br>age=%{y}<extra></extra>\",\"legendgroup\":\"Female\",\"marker\":{\"color\":\"#636efa\",\"pattern\":{\"shape\":\"\"}},\"name\":\"Female\",\"offsetgroup\":\"Female\",\"orientation\":\"h\",\"showlegend\":true,\"text\":[149975.90840000001,173488.5176,175879.6304,132839.6,39851.88],\"textposition\":\"auto\",\"x\":[149975.90840000001,173488.5176,175879.6304,132839.6,39851.88],\"xaxis\":\"x\",\"y\":[\"0-19\",\"20-39\",\"40-59\",\"60-79\",\"80+\"],\"yaxis\":\"y\",\"type\":\"bar\",\"texttemplate\":\"%{text:.3s}\"},{\"alignmentgroup\":\"True\",\"hovertemplate\":\"Sex=Male<br>me=Jan 21<br>cases=%{text}<br>age=%{y}<extra></extra>\",\"legendgroup\":\"Male\",\"marker\":{\"color\":\"#EF553B\",\"pattern\":{\"shape\":\"\"}},\"name\":\"Male\",\"offsetgroup\":\"Male\",\"orientation\":\"h\",\"showlegend\":true,\"text\":[157016.4072,175879.6304,172027.282,123806.50720000001,27630.6368],\"textposition\":\"auto\",\"x\":[157016.4072,175879.6304,172027.282,123806.50720000001,27630.6368],\"xaxis\":\"x\",\"y\":[\"0-19\",\"20-39\",\"40-59\",\"60-79\",\"80+\"],\"yaxis\":\"y\",\"type\":\"bar\",\"texttemplate\":\"%{text:.3s}\"}],\"name\":\"Jan 21\"},{\"data\":[{\"alignmentgroup\":\"True\",\"hovertemplate\":\"Sex=Female<br>me=Feb 21<br>cases=%{text}<br>age=%{y}<extra></extra>\",\"legendgroup\":\"Female\",\"marker\":{\"color\":\"#636efa\",\"pattern\":{\"shape\":\"\"}},\"name\":\"Female\",\"offsetgroup\":\"Female\",\"orientation\":\"h\",\"showlegend\":true,\"text\":[40573.7762,46934.7668,47581.6472,35937.8,10781.34],\"textposition\":\"auto\",\"x\":[40573.7762,46934.7668,47581.6472,35937.8,10781.34],\"xaxis\":\"x\",\"y\":[\"0-19\",\"20-39\",\"40-59\",\"60-79\",\"80+\"],\"yaxis\":\"y\",\"type\":\"bar\",\"texttemplate\":\"%{text:.3s}\"},{\"alignmentgroup\":\"True\",\"hovertemplate\":\"Sex=Male<br>me=Feb 21<br>cases=%{text}<br>age=%{y}<extra></extra>\",\"legendgroup\":\"Male\",\"marker\":{\"color\":\"#EF553B\",\"pattern\":{\"shape\":\"\"}},\"name\":\"Male\",\"offsetgroup\":\"Male\",\"orientation\":\"h\",\"showlegend\":true,\"text\":[42478.4796,47581.6472,46539.451,33494.0296,7475.0624],\"textposition\":\"auto\",\"x\":[42478.4796,47581.6472,46539.451,33494.0296,7475.0624],\"xaxis\":\"x\",\"y\":[\"0-19\",\"20-39\",\"40-59\",\"60-79\",\"80+\"],\"yaxis\":\"y\",\"type\":\"bar\",\"texttemplate\":\"%{text:.3s}\"}],\"name\":\"Feb 21\"},{\"data\":[{\"alignmentgroup\":\"True\",\"hovertemplate\":\"Sex=Female<br>me=Mar 21<br>cases=%{text}<br>age=%{y}<extra></extra>\",\"legendgroup\":\"Female\",\"marker\":{\"color\":\"#636efa\",\"pattern\":{\"shape\":\"\"}},\"name\":\"Female\",\"offsetgroup\":\"Female\",\"orientation\":\"h\",\"showlegend\":true,\"text\":[19106.5186,22101.9604,22406.581599999998,16923.4,5077.0199999999995],\"textposition\":\"auto\",\"x\":[19106.5186,22101.9604,22406.581599999998,16923.4,5077.0199999999995],\"xaxis\":\"x\",\"y\":[\"0-19\",\"20-39\",\"40-59\",\"60-79\",\"80+\"],\"yaxis\":\"y\",\"type\":\"bar\",\"texttemplate\":\"%{text:.3s}\"},{\"alignmentgroup\":\"True\",\"hovertemplate\":\"Sex=Male<br>me=Mar 21<br>cases=%{text}<br>age=%{y}<extra></extra>\",\"legendgroup\":\"Male\",\"marker\":{\"color\":\"#EF553B\",\"pattern\":{\"shape\":\"\"}},\"name\":\"Male\",\"offsetgroup\":\"Male\",\"orientation\":\"h\",\"showlegend\":true,\"text\":[20003.4588,22406.581599999998,21915.803,15772.6088,3520.0672],\"textposition\":\"auto\",\"x\":[20003.4588,22406.581599999998,21915.803,15772.6088,3520.0672],\"xaxis\":\"x\",\"y\":[\"0-19\",\"20-39\",\"40-59\",\"60-79\",\"80+\"],\"yaxis\":\"y\",\"type\":\"bar\",\"texttemplate\":\"%{text:.3s}\"}],\"name\":\"Mar 21\"},{\"data\":[{\"alignmentgroup\":\"True\",\"hovertemplate\":\"Sex=Female<br>me=Apr 21<br>cases=%{text}<br>age=%{y}<extra></extra>\",\"legendgroup\":\"Female\",\"marker\":{\"color\":\"#636efa\",\"pattern\":{\"shape\":\"\"}},\"name\":\"Female\",\"offsetgroup\":\"Female\",\"orientation\":\"h\",\"showlegend\":true,\"text\":[8545.9655,9885.767,10022.018,7569.5,2270.85],\"textposition\":\"auto\",\"x\":[8545.9655,9885.767,10022.018,7569.5,2270.85],\"xaxis\":\"x\",\"y\":[\"0-19\",\"20-39\",\"40-59\",\"60-79\",\"80+\"],\"yaxis\":\"y\",\"type\":\"bar\",\"texttemplate\":\"%{text:.3s}\"},{\"alignmentgroup\":\"True\",\"hovertemplate\":\"Sex=Male<br>me=Apr 21<br>cases=%{text}<br>age=%{y}<extra></extra>\",\"legendgroup\":\"Male\",\"marker\":{\"color\":\"#EF553B\",\"pattern\":{\"shape\":\"\"}},\"name\":\"Male\",\"offsetgroup\":\"Male\",\"orientation\":\"h\",\"showlegend\":true,\"text\":[8947.149,10022.018,9802.5025,7054.774,1574.456],\"textposition\":\"auto\",\"x\":[8947.149,10022.018,9802.5025,7054.774,1574.456],\"xaxis\":\"x\",\"y\":[\"0-19\",\"20-39\",\"40-59\",\"60-79\",\"80+\"],\"yaxis\":\"y\",\"type\":\"bar\",\"texttemplate\":\"%{text:.3s}\"}],\"name\":\"Apr 21\"},{\"data\":[{\"alignmentgroup\":\"True\",\"hovertemplate\":\"Sex=Female<br>me=May 21<br>cases=%{text}<br>age=%{y}<extra></extra>\",\"legendgroup\":\"Female\",\"marker\":{\"color\":\"#636efa\",\"pattern\":{\"shape\":\"\"}},\"name\":\"Female\",\"offsetgroup\":\"Female\",\"orientation\":\"h\",\"showlegend\":true,\"text\":[8250.732,9544.248,9675.792,7308.0,2192.4],\"textposition\":\"auto\",\"x\":[8250.732,9544.248,9675.792,7308.0,2192.4],\"xaxis\":\"x\",\"y\":[\"0-19\",\"20-39\",\"40-59\",\"60-79\",\"80+\"],\"yaxis\":\"y\",\"type\":\"bar\",\"texttemplate\":\"%{text:.3s}\"},{\"alignmentgroup\":\"True\",\"hovertemplate\":\"Sex=Male<br>me=May 21<br>cases=%{text}<br>age=%{y}<extra></extra>\",\"legendgroup\":\"Male\",\"marker\":{\"color\":\"#EF553B\",\"pattern\":{\"shape\":\"\"}},\"name\":\"Male\",\"offsetgroup\":\"Male\",\"orientation\":\"h\",\"showlegend\":true,\"text\":[8638.056,9675.792,9463.86,6811.0560000000005,1520.0639999999999],\"textposition\":\"auto\",\"x\":[8638.056,9675.792,9463.86,6811.0560000000005,1520.0639999999999],\"xaxis\":\"x\",\"y\":[\"0-19\",\"20-39\",\"40-59\",\"60-79\",\"80+\"],\"yaxis\":\"y\",\"type\":\"bar\",\"texttemplate\":\"%{text:.3s}\"}],\"name\":\"May 21\"},{\"data\":[{\"alignmentgroup\":\"True\",\"hovertemplate\":\"Sex=Female<br>me=Jun 21<br>cases=%{text}<br>age=%{y}<extra></extra>\",\"legendgroup\":\"Female\",\"marker\":{\"color\":\"#636efa\",\"pattern\":{\"shape\":\"\"}},\"name\":\"Female\",\"offsetgroup\":\"Female\",\"orientation\":\"h\",\"showlegend\":true,\"text\":[35401.8272,40951.9808,41516.40319999999,31356.800000000003,9407.039999999999],\"textposition\":\"auto\",\"x\":[35401.8272,40951.9808,41516.40319999999,31356.800000000003,9407.039999999999],\"xaxis\":\"x\",\"y\":[\"0-19\",\"20-39\",\"40-59\",\"60-79\",\"80+\"],\"yaxis\":\"y\",\"type\":\"bar\",\"texttemplate\":\"%{text:.3s}\"},{\"alignmentgroup\":\"True\",\"hovertemplate\":\"Sex=Male<br>me=Jun 21<br>cases=%{text}<br>age=%{y}<extra></extra>\",\"legendgroup\":\"Male\",\"marker\":{\"color\":\"#EF553B\",\"pattern\":{\"shape\":\"\"}},\"name\":\"Male\",\"offsetgroup\":\"Male\",\"orientation\":\"h\",\"showlegend\":true,\"text\":[37063.7376,41516.40319999999,40607.056000000004,29224.537600000003,6522.2144],\"textposition\":\"auto\",\"x\":[37063.7376,41516.40319999999,40607.056000000004,29224.537600000003,6522.2144],\"xaxis\":\"x\",\"y\":[\"0-19\",\"20-39\",\"40-59\",\"60-79\",\"80+\"],\"yaxis\":\"y\",\"type\":\"bar\",\"texttemplate\":\"%{text:.3s}\"}],\"name\":\"Jun 21\"},{\"data\":[{\"alignmentgroup\":\"True\",\"hovertemplate\":\"Sex=Female<br>me=Jul 21<br>cases=%{text}<br>age=%{y}<extra></extra>\",\"legendgroup\":\"Female\",\"marker\":{\"color\":\"#636efa\",\"pattern\":{\"shape\":\"\"}},\"name\":\"Female\",\"offsetgroup\":\"Female\",\"orientation\":\"h\",\"showlegend\":true,\"text\":[119179.6109,137864.10259999998,139764.2204,105562.1,31668.629999999997],\"textposition\":\"auto\",\"x\":[119179.6109,137864.10259999998,139764.2204,105562.1,31668.629999999997],\"xaxis\":\"x\",\"y\":[\"0-19\",\"20-39\",\"40-59\",\"60-79\",\"80+\"],\"yaxis\":\"y\",\"type\":\"bar\",\"texttemplate\":\"%{text:.3s}\"},{\"alignmentgroup\":\"True\",\"hovertemplate\":\"Sex=Male<br>me=Jul 21<br>cases=%{text}<br>age=%{y}<extra></extra>\",\"legendgroup\":\"Male\",\"marker\":{\"color\":\"#EF553B\",\"pattern\":{\"shape\":\"\"}},\"name\":\"Male\",\"offsetgroup\":\"Male\",\"orientation\":\"h\",\"showlegend\":true,\"text\":[124774.4022,139764.2204,136702.91950000002,98383.8772,21956.9168],\"textposition\":\"auto\",\"x\":[124774.4022,139764.2204,136702.91950000002,98383.8772,21956.9168],\"xaxis\":\"x\",\"y\":[\"0-19\",\"20-39\",\"40-59\",\"60-79\",\"80+\"],\"yaxis\":\"y\",\"type\":\"bar\",\"texttemplate\":\"%{text:.3s}\"}],\"name\":\"Jul 21\"},{\"data\":[{\"alignmentgroup\":\"True\",\"hovertemplate\":\"Sex=Female<br>me=Aug 21<br>cases=%{text}<br>age=%{y}<extra></extra>\",\"legendgroup\":\"Female\",\"marker\":{\"color\":\"#636efa\",\"pattern\":{\"shape\":\"\"}},\"name\":\"Female\",\"offsetgroup\":\"Female\",\"orientation\":\"h\",\"showlegend\":true,\"text\":[105341.6837,121856.7218,123536.21719999998,93305.3,27991.59],\"textposition\":\"auto\",\"x\":[105341.6837,121856.7218,123536.21719999998,93305.3,27991.59],\"xaxis\":\"x\",\"y\":[\"0-19\",\"20-39\",\"40-59\",\"60-79\",\"80+\"],\"yaxis\":\"y\",\"type\":\"bar\",\"texttemplate\":\"%{text:.3s}\"},{\"alignmentgroup\":\"True\",\"hovertemplate\":\"Sex=Male<br>me=Aug 21<br>cases=%{text}<br>age=%{y}<extra></extra>\",\"legendgroup\":\"Male\",\"marker\":{\"color\":\"#EF553B\",\"pattern\":{\"shape\":\"\"}},\"name\":\"Male\",\"offsetgroup\":\"Male\",\"orientation\":\"h\",\"showlegend\":true,\"text\":[110286.8646,123536.21719999998,120830.3635,86960.5396,19407.502399999998],\"textposition\":\"auto\",\"x\":[110286.8646,123536.21719999998,120830.3635,86960.5396,19407.502399999998],\"xaxis\":\"x\",\"y\":[\"0-19\",\"20-39\",\"40-59\",\"60-79\",\"80+\"],\"yaxis\":\"y\",\"type\":\"bar\",\"texttemplate\":\"%{text:.3s}\"}],\"name\":\"Aug 21\"},{\"data\":[{\"alignmentgroup\":\"True\",\"hovertemplate\":\"Sex=Female<br>me=Sep 21<br>cases=%{text}<br>age=%{y}<extra></extra>\",\"legendgroup\":\"Female\",\"marker\":{\"color\":\"#636efa\",\"pattern\":{\"shape\":\"\"}},\"name\":\"Female\",\"offsetgroup\":\"Female\",\"orientation\":\"h\",\"showlegend\":true,\"text\":[114870.6695,132879.623,134711.042,101745.5,30523.649999999998],\"textposition\":\"auto\",\"x\":[114870.6695,132879.623,134711.042,101745.5,30523.649999999998],\"xaxis\":\"x\",\"y\":[\"0-19\",\"20-39\",\"40-59\",\"60-79\",\"80+\"],\"yaxis\":\"y\",\"type\":\"bar\",\"texttemplate\":\"%{text:.3s}\"},{\"alignmentgroup\":\"True\",\"hovertemplate\":\"Sex=Male<br>me=Sep 21<br>cases=%{text}<br>age=%{y}<extra></extra>\",\"legendgroup\":\"Male\",\"marker\":{\"color\":\"#EF553B\",\"pattern\":{\"shape\":\"\"}},\"name\":\"Male\",\"offsetgroup\":\"Male\",\"orientation\":\"h\",\"showlegend\":true,\"text\":[120263.181,134711.042,131760.42250000002,94826.80600000001,21163.064],\"textposition\":\"auto\",\"x\":[120263.181,134711.042,131760.42250000002,94826.80600000001,21163.064],\"xaxis\":\"x\",\"y\":[\"0-19\",\"20-39\",\"40-59\",\"60-79\",\"80+\"],\"yaxis\":\"y\",\"type\":\"bar\",\"texttemplate\":\"%{text:.3s}\"}],\"name\":\"Sep 21\"},{\"data\":[{\"alignmentgroup\":\"True\",\"hovertemplate\":\"Sex=Female<br>me=Oct 21<br>cases=%{text}<br>age=%{y}<extra></extra>\",\"legendgroup\":\"Female\",\"marker\":{\"color\":\"#636efa\",\"pattern\":{\"shape\":\"\"}},\"name\":\"Female\",\"offsetgroup\":\"Female\",\"orientation\":\"h\",\"showlegend\":true,\"text\":[141191.9497,163327.4458,165578.5132,125059.3,37517.79],\"textposition\":\"auto\",\"x\":[141191.9497,163327.4458,165578.5132,125059.3,37517.79],\"xaxis\":\"x\",\"y\":[\"0-19\",\"20-39\",\"40-59\",\"60-79\",\"80+\"],\"yaxis\":\"y\",\"type\":\"bar\",\"texttemplate\":\"%{text:.3s}\"},{\"alignmentgroup\":\"True\",\"hovertemplate\":\"Sex=Male<br>me=Oct 21<br>cases=%{text}<br>age=%{y}<extra></extra>\",\"legendgroup\":\"Male\",\"marker\":{\"color\":\"#EF553B\",\"pattern\":{\"shape\":\"\"}},\"name\":\"Male\",\"offsetgroup\":\"Male\",\"orientation\":\"h\",\"showlegend\":true,\"text\":[147820.0926,165578.5132,161951.7935,116555.2676,26012.3344],\"textposition\":\"auto\",\"x\":[147820.0926,165578.5132,161951.7935,116555.2676,26012.3344],\"xaxis\":\"x\",\"y\":[\"0-19\",\"20-39\",\"40-59\",\"60-79\",\"80+\"],\"yaxis\":\"y\",\"type\":\"bar\",\"texttemplate\":\"%{text:.3s}\"}],\"name\":\"Oct 21\"},{\"data\":[{\"alignmentgroup\":\"True\",\"hovertemplate\":\"Sex=Female<br>me=Nov 21<br>cases=%{text}<br>age=%{y}<extra></extra>\",\"legendgroup\":\"Female\",\"marker\":{\"color\":\"#636efa\",\"pattern\":{\"shape\":\"\"}},\"name\":\"Female\",\"offsetgroup\":\"Female\",\"orientation\":\"h\",\"showlegend\":true,\"text\":[132222.0447,152951.2758,155059.3332,117114.3,35134.29],\"textposition\":\"auto\",\"x\":[132222.0447,152951.2758,155059.3332,117114.3,35134.29],\"xaxis\":\"x\",\"y\":[\"0-19\",\"20-39\",\"40-59\",\"60-79\",\"80+\"],\"yaxis\":\"y\",\"type\":\"bar\",\"texttemplate\":\"%{text:.3s}\"},{\"alignmentgroup\":\"True\",\"hovertemplate\":\"Sex=Male<br>me=Nov 21<br>cases=%{text}<br>age=%{y}<extra></extra>\",\"legendgroup\":\"Male\",\"marker\":{\"color\":\"#EF553B\",\"pattern\":{\"shape\":\"\"}},\"name\":\"Male\",\"offsetgroup\":\"Male\",\"orientation\":\"h\",\"showlegend\":true,\"text\":[138429.1026,155059.3332,151663.0185,109150.5276,24359.7744],\"textposition\":\"auto\",\"x\":[138429.1026,155059.3332,151663.0185,109150.5276,24359.7744],\"xaxis\":\"x\",\"y\":[\"0-19\",\"20-39\",\"40-59\",\"60-79\",\"80+\"],\"yaxis\":\"y\",\"type\":\"bar\",\"texttemplate\":\"%{text:.3s}\"}],\"name\":\"Nov 21\"},{\"data\":[{\"alignmentgroup\":\"True\",\"hovertemplate\":\"Sex=Female<br>me=Dec 21<br>cases=%{text}<br>age=%{y}<extra></extra>\",\"legendgroup\":\"Female\",\"marker\":{\"color\":\"#636efa\",\"pattern\":{\"shape\":\"\"}},\"name\":\"Female\",\"offsetgroup\":\"Female\",\"orientation\":\"h\",\"showlegend\":true,\"text\":[305858.9706,353810.28839999996,358686.6936,270911.4,81273.42],\"textposition\":\"auto\",\"x\":[305858.9706,353810.28839999996,358686.6936,270911.4,81273.42],\"xaxis\":\"x\",\"y\":[\"0-19\",\"20-39\",\"40-59\",\"60-79\",\"80+\"],\"yaxis\":\"y\",\"type\":\"bar\",\"texttemplate\":\"%{text:.3s}\"},{\"alignmentgroup\":\"True\",\"hovertemplate\":\"Sex=Male<br>me=Dec 21<br>cases=%{text}<br>age=%{y}<extra></extra>\",\"legendgroup\":\"Male\",\"marker\":{\"color\":\"#EF553B\",\"pattern\":{\"shape\":\"\"}},\"name\":\"Male\",\"offsetgroup\":\"Male\",\"orientation\":\"h\",\"showlegend\":true,\"text\":[320217.2748,358686.6936,350830.26300000004,252489.4248,56349.5712],\"textposition\":\"auto\",\"x\":[320217.2748,358686.6936,350830.26300000004,252489.4248,56349.5712],\"xaxis\":\"x\",\"y\":[\"0-19\",\"20-39\",\"40-59\",\"60-79\",\"80+\"],\"yaxis\":\"y\",\"type\":\"bar\",\"texttemplate\":\"%{text:.3s}\"}],\"name\":\"Dec 21\"},{\"data\":[{\"alignmentgroup\":\"True\",\"hovertemplate\":\"Sex=Female<br>me=Jan 22<br>cases=%{text}<br>age=%{y}<extra></extra>\",\"legendgroup\":\"Female\",\"marker\":{\"color\":\"#636efa\",\"pattern\":{\"shape\":\"\"}},\"name\":\"Female\",\"offsetgroup\":\"Female\",\"orientation\":\"h\",\"showlegend\":true,\"text\":[398608.8044,461101.06159999996,467456.20639999997,353063.60000000003,105919.08],\"textposition\":\"auto\",\"x\":[398608.8044,461101.06159999996,467456.20639999997,353063.60000000003,105919.08],\"xaxis\":\"x\",\"y\":[\"0-19\",\"20-39\",\"40-59\",\"60-79\",\"80+\"],\"yaxis\":\"y\",\"type\":\"bar\",\"texttemplate\":\"%{text:.3s}\"},{\"alignmentgroup\":\"True\",\"hovertemplate\":\"Sex=Male<br>me=Jan 22<br>cases=%{text}<br>age=%{y}<extra></extra>\",\"legendgroup\":\"Male\",\"marker\":{\"color\":\"#EF553B\",\"pattern\":{\"shape\":\"\"}},\"name\":\"Male\",\"offsetgroup\":\"Male\",\"orientation\":\"h\",\"showlegend\":true,\"text\":[417321.1752,467456.20639999997,457217.362,329055.27520000003,73437.2288],\"textposition\":\"auto\",\"x\":[417321.1752,467456.20639999997,457217.362,329055.27520000003,73437.2288],\"xaxis\":\"x\",\"y\":[\"0-19\",\"20-39\",\"40-59\",\"60-79\",\"80+\"],\"yaxis\":\"y\",\"type\":\"bar\",\"texttemplate\":\"%{text:.3s}\"}],\"name\":\"Jan 22\"},{\"data\":[{\"alignmentgroup\":\"True\",\"hovertemplate\":\"Sex=Female<br>me=Feb 22<br>cases=%{text}<br>age=%{y}<extra></extra>\",\"legendgroup\":\"Female\",\"marker\":{\"color\":\"#636efa\",\"pattern\":{\"shape\":\"\"}},\"name\":\"Female\",\"offsetgroup\":\"Female\",\"orientation\":\"h\",\"showlegend\":true,\"text\":[177344.2232,205147.52479999998,207974.97919999997,157080.80000000002,47124.24],\"textposition\":\"auto\",\"x\":[177344.2232,205147.52479999998,207974.97919999997,157080.80000000002,47124.24],\"xaxis\":\"x\",\"y\":[\"0-19\",\"20-39\",\"40-59\",\"60-79\",\"80+\"],\"yaxis\":\"y\",\"type\":\"bar\",\"texttemplate\":\"%{text:.3s}\"},{\"alignmentgroup\":\"True\",\"hovertemplate\":\"Sex=Male<br>me=Feb 22<br>cases=%{text}<br>age=%{y}<extra></extra>\",\"legendgroup\":\"Male\",\"marker\":{\"color\":\"#EF553B\",\"pattern\":{\"shape\":\"\"}},\"name\":\"Male\",\"offsetgroup\":\"Male\",\"orientation\":\"h\",\"showlegend\":true,\"text\":[185669.5056,207974.97919999997,203419.636,146399.30560000002,32672.806399999998],\"textposition\":\"auto\",\"x\":[185669.5056,207974.97919999997,203419.636,146399.30560000002,32672.806399999998],\"xaxis\":\"x\",\"y\":[\"0-19\",\"20-39\",\"40-59\",\"60-79\",\"80+\"],\"yaxis\":\"y\",\"type\":\"bar\",\"texttemplate\":\"%{text:.3s}\"}],\"name\":\"Feb 22\"},{\"data\":[{\"alignmentgroup\":\"True\",\"hovertemplate\":\"Sex=Female<br>me=Mar 22<br>cases=%{text}<br>age=%{y}<extra></extra>\",\"legendgroup\":\"Female\",\"marker\":{\"color\":\"#636efa\",\"pattern\":{\"shape\":\"\"}},\"name\":\"Female\",\"offsetgroup\":\"Female\",\"orientation\":\"h\",\"showlegend\":true,\"text\":[255235.7396,295250.55439999996,299319.8576,226072.40000000002,67821.72],\"textposition\":\"auto\",\"x\":[255235.7396,295250.55439999996,299319.8576,226072.40000000002,67821.72],\"xaxis\":\"x\",\"y\":[\"0-19\",\"20-39\",\"40-59\",\"60-79\",\"80+\"],\"yaxis\":\"y\",\"type\":\"bar\",\"texttemplate\":\"%{text:.3s}\"},{\"alignmentgroup\":\"True\",\"hovertemplate\":\"Sex=Male<br>me=Mar 22<br>cases=%{text}<br>age=%{y}<extra></extra>\",\"legendgroup\":\"Male\",\"marker\":{\"color\":\"#EF553B\",\"pattern\":{\"shape\":\"\"}},\"name\":\"Male\",\"offsetgroup\":\"Male\",\"orientation\":\"h\",\"showlegend\":true,\"text\":[267217.5768,299319.8576,292763.75800000003,210699.4768,47023.059199999996],\"textposition\":\"auto\",\"x\":[267217.5768,299319.8576,292763.75800000003,210699.4768,47023.059199999996],\"xaxis\":\"x\",\"y\":[\"0-19\",\"20-39\",\"40-59\",\"60-79\",\"80+\"],\"yaxis\":\"y\",\"type\":\"bar\",\"texttemplate\":\"%{text:.3s}\"}],\"name\":\"Mar 22\"},{\"data\":[{\"alignmentgroup\":\"True\",\"hovertemplate\":\"Sex=Female<br>me=Apr 22<br>cases=%{text}<br>age=%{y}<extra></extra>\",\"legendgroup\":\"Female\",\"marker\":{\"color\":\"#636efa\",\"pattern\":{\"shape\":\"\"}},\"name\":\"Female\",\"offsetgroup\":\"Female\",\"orientation\":\"h\",\"showlegend\":true,\"text\":[100584.3035,116353.499,117957.146,89091.5,26727.45],\"textposition\":\"auto\",\"x\":[100584.3035,116353.499,117957.146,89091.5,26727.45],\"xaxis\":\"x\",\"y\":[\"0-19\",\"20-39\",\"40-59\",\"60-79\",\"80+\"],\"yaxis\":\"y\",\"type\":\"bar\",\"texttemplate\":\"%{text:.3s}\"},{\"alignmentgroup\":\"True\",\"hovertemplate\":\"Sex=Male<br>me=Apr 22<br>cases=%{text}<br>age=%{y}<extra></extra>\",\"legendgroup\":\"Male\",\"marker\":{\"color\":\"#EF553B\",\"pattern\":{\"shape\":\"\"}},\"name\":\"Male\",\"offsetgroup\":\"Male\",\"orientation\":\"h\",\"showlegend\":true,\"text\":[105306.153,117957.146,115373.49250000001,83033.278,18531.032],\"textposition\":\"auto\",\"x\":[105306.153,117957.146,115373.49250000001,83033.278,18531.032],\"xaxis\":\"x\",\"y\":[\"0-19\",\"20-39\",\"40-59\",\"60-79\",\"80+\"],\"yaxis\":\"y\",\"type\":\"bar\",\"texttemplate\":\"%{text:.3s}\"}],\"name\":\"Apr 22\"},{\"data\":[{\"alignmentgroup\":\"True\",\"hovertemplate\":\"Sex=Female<br>me=May 22<br>cases=%{text}<br>age=%{y}<extra></extra>\",\"legendgroup\":\"Female\",\"marker\":{\"color\":\"#636efa\",\"pattern\":{\"shape\":\"\"}},\"name\":\"Female\",\"offsetgroup\":\"Female\",\"orientation\":\"h\",\"showlegend\":true,\"text\":[30051.9478,34763.3692,35242.4968,26618.2,7985.46],\"textposition\":\"auto\",\"x\":[30051.9478,34763.3692,35242.4968,26618.2,7985.46],\"xaxis\":\"x\",\"y\":[\"0-19\",\"20-39\",\"40-59\",\"60-79\",\"80+\"],\"yaxis\":\"y\",\"type\":\"bar\",\"texttemplate\":\"%{text:.3s}\"},{\"alignmentgroup\":\"True\",\"hovertemplate\":\"Sex=Male<br>me=May 22<br>cases=%{text}<br>age=%{y}<extra></extra>\",\"legendgroup\":\"Male\",\"marker\":{\"color\":\"#EF553B\",\"pattern\":{\"shape\":\"\"}},\"name\":\"Male\",\"offsetgroup\":\"Male\",\"orientation\":\"h\",\"showlegend\":true,\"text\":[31462.7124,35242.4968,34470.569,24808.1624,5536.585599999999],\"textposition\":\"auto\",\"x\":[31462.7124,35242.4968,34470.569,24808.1624,5536.585599999999],\"xaxis\":\"x\",\"y\":[\"0-19\",\"20-39\",\"40-59\",\"60-79\",\"80+\"],\"yaxis\":\"y\",\"type\":\"bar\",\"texttemplate\":\"%{text:.3s}\"}],\"name\":\"May 22\"},{\"data\":[{\"alignmentgroup\":\"True\",\"hovertemplate\":\"Sex=Female<br>me=Jun 22<br>cases=%{text}<br>age=%{y}<extra></extra>\",\"legendgroup\":\"Female\",\"marker\":{\"color\":\"#636efa\",\"pattern\":{\"shape\":\"\"}},\"name\":\"Female\",\"offsetgroup\":\"Female\",\"orientation\":\"h\",\"showlegend\":true,\"text\":[47390.6782,54820.394799999995,55575.9592,41975.8,12592.74],\"textposition\":\"auto\",\"x\":[47390.6782,54820.394799999995,55575.9592,41975.8,12592.74],\"xaxis\":\"x\",\"y\":[\"0-19\",\"20-39\",\"40-59\",\"60-79\",\"80+\"],\"yaxis\":\"y\",\"type\":\"bar\",\"texttemplate\":\"%{text:.3s}\"},{\"alignmentgroup\":\"True\",\"hovertemplate\":\"Sex=Male<br>me=Jun 22<br>cases=%{text}<br>age=%{y}<extra></extra>\",\"legendgroup\":\"Male\",\"marker\":{\"color\":\"#EF553B\",\"pattern\":{\"shape\":\"\"}},\"name\":\"Male\",\"offsetgroup\":\"Male\",\"orientation\":\"h\",\"showlegend\":true,\"text\":[49615.395599999996,55575.9592,54358.661,39121.4456,8730.9664],\"textposition\":\"auto\",\"x\":[49615.395599999996,55575.9592,54358.661,39121.4456,8730.9664],\"xaxis\":\"x\",\"y\":[\"0-19\",\"20-39\",\"40-59\",\"60-79\",\"80+\"],\"yaxis\":\"y\",\"type\":\"bar\",\"texttemplate\":\"%{text:.3s}\"}],\"name\":\"Jun 22\"},{\"data\":[{\"alignmentgroup\":\"True\",\"hovertemplate\":\"Sex=Female<br>me=Jul 22<br>cases=%{text}<br>age=%{y}<extra></extra>\",\"legendgroup\":\"Female\",\"marker\":{\"color\":\"#636efa\",\"pattern\":{\"shape\":\"\"}},\"name\":\"Female\",\"offsetgroup\":\"Female\",\"orientation\":\"h\",\"showlegend\":true,\"text\":[65949.1802,76288.4228,77339.8712,58413.8,17524.14],\"textposition\":\"auto\",\"x\":[65949.1802,76288.4228,77339.8712,58413.8,17524.14],\"xaxis\":\"x\",\"y\":[\"0-19\",\"20-39\",\"40-59\",\"60-79\",\"80+\"],\"yaxis\":\"y\",\"type\":\"bar\",\"texttemplate\":\"%{text:.3s}\"},{\"alignmentgroup\":\"True\",\"hovertemplate\":\"Sex=Male<br>me=Jul 22<br>cases=%{text}<br>age=%{y}<extra></extra>\",\"legendgroup\":\"Male\",\"marker\":{\"color\":\"#EF553B\",\"pattern\":{\"shape\":\"\"}},\"name\":\"Male\",\"offsetgroup\":\"Male\",\"orientation\":\"h\",\"showlegend\":true,\"text\":[69045.1116,77339.8712,75645.871,54441.6616,12150.070399999999],\"textposition\":\"auto\",\"x\":[69045.1116,77339.8712,75645.871,54441.6616,12150.070399999999],\"xaxis\":\"x\",\"y\":[\"0-19\",\"20-39\",\"40-59\",\"60-79\",\"80+\"],\"yaxis\":\"y\",\"type\":\"bar\",\"texttemplate\":\"%{text:.3s}\"}],\"name\":\"Jul 22\"},{\"data\":[{\"alignmentgroup\":\"True\",\"hovertemplate\":\"Sex=Female<br>me=Aug 22<br>cases=%{text}<br>age=%{y}<extra></extra>\",\"legendgroup\":\"Female\",\"marker\":{\"color\":\"#636efa\",\"pattern\":{\"shape\":\"\"}},\"name\":\"Female\",\"offsetgroup\":\"Female\",\"orientation\":\"h\",\"showlegend\":true,\"text\":[24534.6377,28381.0778,28772.241199999997,21731.300000000003,6519.389999999999],\"textposition\":\"auto\",\"x\":[24534.6377,28381.0778,28772.241199999997,21731.300000000003,6519.389999999999],\"xaxis\":\"x\",\"y\":[\"0-19\",\"20-39\",\"40-59\",\"60-79\",\"80+\"],\"yaxis\":\"y\",\"type\":\"bar\",\"texttemplate\":\"%{text:.3s}\"},{\"alignmentgroup\":\"True\",\"hovertemplate\":\"Sex=Male<br>me=Aug 22<br>cases=%{text}<br>age=%{y}<extra></extra>\",\"legendgroup\":\"Male\",\"marker\":{\"color\":\"#EF553B\",\"pattern\":{\"shape\":\"\"}},\"name\":\"Male\",\"offsetgroup\":\"Male\",\"orientation\":\"h\",\"showlegend\":true,\"text\":[25686.3966,28772.241199999997,28142.0335,20253.5716,4520.1104],\"textposition\":\"auto\",\"x\":[25686.3966,28772.241199999997,28142.0335,20253.5716,4520.1104],\"xaxis\":\"x\",\"y\":[\"0-19\",\"20-39\",\"40-59\",\"60-79\",\"80+\"],\"yaxis\":\"y\",\"type\":\"bar\",\"texttemplate\":\"%{text:.3s}\"}],\"name\":\"Aug 22\"},{\"data\":[{\"alignmentgroup\":\"True\",\"hovertemplate\":\"Sex=Female<br>me=Sep 22<br>cases=%{text}<br>age=%{y}<extra></extra>\",\"legendgroup\":\"Female\",\"marker\":{\"color\":\"#636efa\",\"pattern\":{\"shape\":\"\"}},\"name\":\"Female\",\"offsetgroup\":\"Female\",\"orientation\":\"h\",\"showlegend\":true,\"text\":[17054.674,19728.435999999998,20000.343999999997,15106.0,4531.8],\"textposition\":\"auto\",\"x\":[17054.674,19728.435999999998,20000.343999999997,15106.0,4531.8],\"xaxis\":\"x\",\"y\":[\"0-19\",\"20-39\",\"40-59\",\"60-79\",\"80+\"],\"yaxis\":\"y\",\"type\":\"bar\",\"texttemplate\":\"%{text:.3s}\"},{\"alignmentgroup\":\"True\",\"hovertemplate\":\"Sex=Male<br>me=Sep 22<br>cases=%{text}<br>age=%{y}<extra></extra>\",\"legendgroup\":\"Male\",\"marker\":{\"color\":\"#EF553B\",\"pattern\":{\"shape\":\"\"}},\"name\":\"Male\",\"offsetgroup\":\"Male\",\"orientation\":\"h\",\"showlegend\":true,\"text\":[17855.292,20000.343999999997,19562.27,14078.792000000001,3142.048],\"textposition\":\"auto\",\"x\":[17855.292,20000.343999999997,19562.27,14078.792000000001,3142.048],\"xaxis\":\"x\",\"y\":[\"0-19\",\"20-39\",\"40-59\",\"60-79\",\"80+\"],\"yaxis\":\"y\",\"type\":\"bar\",\"texttemplate\":\"%{text:.3s}\"}],\"name\":\"Sep 22\"},{\"data\":[{\"alignmentgroup\":\"True\",\"hovertemplate\":\"Sex=Female<br>me=Oct 22<br>cases=%{text}<br>age=%{y}<extra></extra>\",\"legendgroup\":\"Female\",\"marker\":{\"color\":\"#636efa\",\"pattern\":{\"shape\":\"\"}},\"name\":\"Female\",\"offsetgroup\":\"Female\",\"orientation\":\"h\",\"showlegend\":true,\"text\":[20623.443,23856.701999999997,24185.507999999998,18267.0,5480.099999999999],\"textposition\":\"auto\",\"x\":[20623.443,23856.701999999997,24185.507999999998,18267.0,5480.099999999999],\"xaxis\":\"x\",\"y\":[\"0-19\",\"20-39\",\"40-59\",\"60-79\",\"80+\"],\"yaxis\":\"y\",\"type\":\"bar\",\"texttemplate\":\"%{text:.3s}\"},{\"alignmentgroup\":\"True\",\"hovertemplate\":\"Sex=Male<br>me=Oct 22<br>cases=%{text}<br>age=%{y}<extra></extra>\",\"legendgroup\":\"Male\",\"marker\":{\"color\":\"#EF553B\",\"pattern\":{\"shape\":\"\"}},\"name\":\"Male\",\"offsetgroup\":\"Male\",\"orientation\":\"h\",\"showlegend\":true,\"text\":[21591.594,24185.507999999998,23655.765,17024.844,3799.5359999999996],\"textposition\":\"auto\",\"x\":[21591.594,24185.507999999998,23655.765,17024.844,3799.5359999999996],\"xaxis\":\"x\",\"y\":[\"0-19\",\"20-39\",\"40-59\",\"60-79\",\"80+\"],\"yaxis\":\"y\",\"type\":\"bar\",\"texttemplate\":\"%{text:.3s}\"}],\"name\":\"Oct 22\"}]);\n",
       "                        }).then(function(){\n",
       "                            \n",
       "var gd = document.getElementById('7a315565-5e6a-4983-b227-141ecb024560');\n",
       "var x = new MutationObserver(function (mutations, observer) {{\n",
       "        var display = window.getComputedStyle(gd).display;\n",
       "        if (!display || display === 'none') {{\n",
       "            console.log([gd, 'removed!']);\n",
       "            Plotly.purge(gd);\n",
       "            observer.disconnect();\n",
       "        }}\n",
       "}});\n",
       "\n",
       "// Listen for the removal of the full notebook cells\n",
       "var notebookContainer = gd.closest('#notebook-container');\n",
       "if (notebookContainer) {{\n",
       "    x.observe(notebookContainer, {childList: true});\n",
       "}}\n",
       "\n",
       "// Listen for the clearing of the current output cell\n",
       "var outputEl = gd.closest('.output');\n",
       "if (outputEl) {{\n",
       "    x.observe(outputEl, {childList: true});\n",
       "}}\n",
       "\n",
       "                        })                };                });            </script>        </div>"
      ]
     },
     "metadata": {},
     "output_type": "display_data"
    }
   ],
   "source": [
    "import pandas as pd\n",
    "import io, requests\n",
    "import plotly.express as px\n",
    "\n",
    "# get OWID data, just take UK\n",
    "dfall = pd.read_csv(io.StringIO(\n",
    "    requests.get(\"https://raw.githubusercontent.com/owid/covid-19-data/master/public/data/owid-covid-data.csv\").text))\n",
    "dfall[\"date\"] = pd.to_datetime(dfall[\"date\"])\n",
    "\n",
    "dfme = dfall.loc[\n",
    "    dfall[\"iso_code\"].eq(\"GBR\"), [\"iso_code\", \"location\", \"date\", \"new_cases\"]\n",
    "].assign(monthend=lambda d: d[\"date\"] + pd.offsets.MonthEnd(0))\n",
    "\n",
    "# UK demographics\n",
    "dfukdemo = pd.DataFrame({\"Sex\": [\"Female\", \"Female\", \"Female\", \"Female\", \"Female\", \"Male\", \"Male\", \"Male\", \"Male\", \"Male\"], \n",
    "                         \"age\": [\"0-19\", \"20-39\", \"40-59\", \"60-79\", \"80+\", \"0-19\", \"20-39\", \"40-59\", \"60-79\", \"80+\"], \n",
    "                         \"ratio\": [0.1129, 0.1306, 0.1324, 0.1, 0.03, 0.1182, 0.1324, 0.1295, 0.0932, 0.0208]})\n",
    "\n",
    "# rollup daily to monthly, early dates ignore\n",
    "dfme = dfme.loc[dfme[\"date\"].ge(\"1-mar-2020\")].groupby([c for c in dfme.columns if not c in [\"date\", \"new_cases\"]], as_index=False).sum()\n",
    "\n",
    "# final data frame for plotting, breaks down by sex and age demographics\n",
    "dfme = (\n",
    "    dfme.assign(foo=1, me=lambda d: d[\"monthend\"].dt.strftime(\"%b %y\"))\n",
    "    .merge(dfukdemo.assign(foo=1), on=\"foo\")\n",
    "    .assign(cases=lambda d: d[\"new_cases\"] * d[\"ratio\"])\n",
    ")\n",
    "\n",
    "# generate the plot\n",
    "fig = px.bar(\n",
    "    dfme,\n",
    "    x=\"cases\",\n",
    "    y=\"age\",\n",
    "    text=\"cases\",\n",
    "    color=\"Sex\",\n",
    "    orientation=\"h\",\n",
    "    animation_frame=\"me\",\n",
    ")\n",
    "\n",
    "# a bit of formatting...\n",
    "fig = fig.update_traces(texttemplate=\"%{text:.3s}\")\n",
    "\n",
    "for f in fig.frames:\n",
    "    for t in f[\"data\"]:\n",
    "        t[\"texttemplate\"] = \"%{text:.3s}\"\n",
    "\n",
    "fig.update_layout(xaxis={\"range\":[0,dfme[\"cases\"].max()*2]})\n"
   ]
  },
  {
   "cell_type": "code",
   "execution_count": 4,
   "id": "b238f708-171c-4e63-a977-b7aaec685bce",
   "metadata": {},
   "outputs": [
    {
     "data": {
      "image/png": "[encoded data removed]",
      "text/plain": [
       "<Figure size 432x288 with 4 Axes>"
      ]
     },
     "metadata": {
      "needs_background": "light"
     },
     "output_type": "display_data"
    }
   ],
   "source": [
    "import numpy as np\n",
    "import matplotlib.pyplot as plt\n",
    "from matplotlib.widgets import Slider, Button\n",
    "\n",
    "\n",
    "# The parametrized function to be plotted\n",
    "def f(t, amplitude, frequency):\n",
    "    return amplitude * np.sin(2 * np.pi * frequency * t)\n",
    "\n",
    "t = np.linspace(0, 1, 1000)\n",
    "\n",
    "# Define initial parameters\n",
    "init_amplitude = 5\n",
    "init_frequency = 3\n",
    "\n",
    "# Create the figure and the line that we will manipulate\n",
    "fig, ax = plt.subplots()\n",
    "line, = ax.plot(t, f(t, init_amplitude, init_frequency), lw=2)\n",
    "ax.set_xlabel('Time [s]')\n",
    "\n",
    "# adjust the main plot to make room for the sliders\n",
    "fig.subplots_adjust(left=0.25, bottom=0.25)\n",
    "\n",
    "# Make a horizontal slider to control the frequency.\n",
    "axfreq = fig.add_axes([0.25, 0.1, 0.65, 0.03])\n",
    "freq_slider = Slider(\n",
    "    ax=axfreq,\n",
    "    label='Frequency [Hz]',\n",
    "    valmin=0.1,\n",
    "    valmax=30,\n",
    "    valinit=init_frequency,\n",
    ")\n",
    "\n",
    "# Make a vertically oriented slider to control the amplitude\n",
    "axamp = fig.add_axes([0.1, 0.25, 0.0225, 0.63])\n",
    "amp_slider = Slider(\n",
    "    ax=axamp,\n",
    "    label=\"Amplitude\",\n",
    "    valmin=0,\n",
    "    valmax=10,\n",
    "    valinit=init_amplitude,\n",
    "    orientation=\"vertical\"\n",
    ")\n",
    "\n",
    "\n",
    "# The function to be called anytime a slider's value changes\n",
    "def update(val):\n",
    "    line.set_ydata(f(t, amp_slider.val, freq_slider.val))\n",
    "    fig.canvas.draw_idle()\n",
    "\n",
    "\n",
    "# register the update function with each slider\n",
    "freq_slider.on_changed(update)\n",
    "amp_slider.on_changed(update)\n",
    "\n",
    "# Create a `matplotlib.widgets.Button` to reset the sliders to initial values.\n",
    "resetax = fig.add_axes([0.8, 0.025, 0.1, 0.04])\n",
    "button = Button(resetax, 'Reset', hovercolor='0.975')\n",
    "\n",
    "\n",
    "def reset(event):\n",
    "    freq_slider.reset()\n",
    "    amp_slider.reset()\n",
    "button.on_clicked(reset)\n",
    "\n",
    "plt.show()"
   ]
  },
  {
   "cell_type": "code",
   "execution_count": 111,
   "id": "437b4f61-a018-4392-90f0-ced4aab667b6",
   "metadata": {},
   "outputs": [],
   "source": [
    "import json\n",
    "\n",
    "# Data to be written\n",
    "baseline_data = {\n",
    "        'Morning':{'value':20},\n",
    "        'Midday':{'value':35},\n",
    "        'Afternoon':{'value':30},\n",
    "        'Evening':{'value':80},\n",
    "       }\n",
    "\n",
    "# Writing to sample.json\n",
    "with open(\"data.json\", \"w\") as outfile:\n",
    "    json.dump(baseline_data, outfile)\n",
    "\n"
   ]
  },
  {
   "cell_type": "code",
   "execution_count": 112,
   "id": "f407d213-68f5-4020-afdc-2875afbe9fa0",
   "metadata": {},
   "outputs": [],
   "source": [
    "def get_value(dct):\n",
    "    if 'value' in dct:\n",
    "        return dct['value']\n",
    "    return dct"
   ]
  },
  {
   "cell_type": "code",
   "execution_count": 118,
   "id": "f40a0071-53f6-41d4-b43a-63075f598b7e",
   "metadata": {},
   "outputs": [
    {
     "name": "stdout",
     "output_type": "stream",
     "text": [
      "{'Morning': 20, 'Midday': 35, 'Afternoon': 30, 'Evening': 80}\n"
     ]
    }
   ],
   "source": [
    "with open(\"data.json\") as json_data:\n",
    "    data = json_data.read()\n",
    "    data = json.loads(data, object_hook=get_value)\n",
    "print(data)"
   ]
  },
  {
   "cell_type": "code",
   "execution_count": 120,
   "id": "36365d73-d39c-4ef1-bd4c-20b5306190a4",
   "metadata": {},
   "outputs": [
    {
     "data": {
      "text/plain": [
       "([20, 35, 30, 80], ['Morning', 'Midday', 'Afternoon', 'Evening'])"
      ]
     },
     "execution_count": 120,
     "metadata": {},
     "output_type": "execute_result"
    }
   ],
   "source": [
    "[v for k,v in data.items() if v!={}], [k for k,v in data.items() if v!={}]"
   ]
  },
  {
   "cell_type": "code",
   "execution_count": null,
   "id": "6c5e24d3-12cd-42c8-936b-c525d0aa2b4b",
   "metadata": {},
   "outputs": [],
   "source": [
    "import numpy as np\n",
    "import matplotlib.pyplot as plt\n",
    "from matplotlib.widgets import Slider, Button\n",
    "\n",
    "\n",
    "# The parametrized function to be plotted\n",
    "def f(t, amplitude, frequency):\n",
    "    return amplitude * np.sin(2 * np.pi * frequency * t)\n",
    "\n",
    "t = np.linspace(0, 1, 1000)\n",
    "\n",
    "# Define initial parameters\n",
    "init_amplitude = 5\n",
    "init_frequency = 3\n",
    "\n",
    "# Create the figure and the line that we will manipulate\n",
    "fig, ax = plt.subplots()\n",
    "line, = ax.plot(t, f(t, init_amplitude, init_frequency), lw=2)\n",
    "ax.set_xlabel('Time [s]')\n",
    "\n",
    "# adjust the main plot to make room for the sliders\n",
    "fig.subplots_adjust(left=0.25, bottom=0.25)\n",
    "\n",
    "# Make a horizontal slider to control the frequency.\n",
    "axfreq = fig.add_axes([0.25, 0.1, 0.65, 0.03])\n",
    "freq_slider = Slider(\n",
    "    ax=axfreq,\n",
    "    label='Frequency [Hz]',\n",
    "    valmin=0.1,\n",
    "    valmax=30,\n",
    "    valinit=init_frequency,\n",
    ")\n",
    "\n",
    "# Make a vertically oriented slider to control the amplitude\n",
    "axamp = fig.add_axes([0.1, 0.25, 0.0225, 0.63])\n",
    "amp_slider = Slider(\n",
    "    ax=axamp,\n",
    "    label=\"Amplitude\",\n",
    "    valmin=0,\n",
    "    valmax=10,\n",
    "    valinit=init_amplitude,\n",
    "    orientation=\"vertical\"\n",
    ")\n",
    "\n",
    "\n",
    "# The function to be called anytime a slider's value changes\n",
    "def update(val):\n",
    "    line.set_ydata(f(t, amp_slider.val, freq_slider.val))\n",
    "    fig.canvas.draw_idle()\n",
    "\n",
    "\n",
    "# register the update function with each slider\n",
    "freq_slider.on_changed(update)\n",
    "amp_slider.on_changed(update)\n",
    "\n",
    "# Create a `matplotlib.widgets.Button` to reset the sliders to initial values.\n",
    "resetax = fig.add_axes([0.8, 0.025, 0.1, 0.04])\n",
    "button = Button(resetax, 'Reset', hovercolor='0.975')\n",
    "\n",
    "\n",
    "def reset(event):\n",
    "    freq_slider.reset()\n",
    "    amp_slider.reset()\n",
    "button.on_clicked(reset)\n",
    "\n",
    "plt.show()"
   ]
  },
  {
   "cell_type": "code",
   "execution_count": 173,
   "id": "da6d1288-9ff8-42ce-a7c4-408daf32b47d",
   "metadata": {},
   "outputs": [
    {
     "data": {
      "image/png": "[encoded data removed]",
      "text/plain": [
       "<Figure size 1080x576 with 3 Axes>"
      ]
     },
     "metadata": {
      "needs_background": "light"
     },
     "output_type": "display_data"
    }
   ],
   "source": [
    "import numpy as np\n",
    "import matplotlib.pyplot as plt\n",
    "from matplotlib.widgets import Slider, Button, RadioButtons\n",
    "\n",
    "# The parametrized function to be plotted\n",
    "def f(x,y):\n",
    "    return y\n",
    "\n",
    "values = [v for k,v in data.items() if v!={}]\n",
    "keys = [k for k,v in data.items() if v!={}]\n",
    "initial_value = 40\n",
    "\n",
    "ind = np.arange(len(keys))    # the x locations for the groups\n",
    "width = 0.35       # the width of the bars: can also be len(x) sequence\n",
    "\n",
    "\n",
    "fig, ax = plt.subplots(figsize=(15, 8))\n",
    "plt.subplots_adjust(bottom=0.4)\n",
    "bar = ax.bar(ind, values, width, color='blue')\n",
    "\n",
    "ax.set_ylabel('Values')\n",
    "ax.set_title('Change of energy consumption throughout the day')\n",
    "plt.xticks(ind, keys)\n",
    "ax.set_yticks(np.arange(0, np.max(values)+1, 10))\n",
    "\n",
    "#Add Slider - morning\n",
    "axfreq = fig.add_axes([0.19, 0, 0.01, 0.3]) #dimensions\n",
    "morning_slider = Slider(\n",
    "    ax=axfreq,\n",
    "    label='',\n",
    "    valmin=0,\n",
    "    valmax=80,\n",
    "    valinit=initial_value,\n",
    "    orientation='vertical'\n",
    ")\n",
    "\n",
    "# The function to be called anytime a slider's value changes\n",
    "def update(val):\n",
    "    bar.set_ydata(f(x,morning_slider.val))\n",
    "    fig.canvas.draw_idle()\n",
    "\n",
    "\n",
    "# register the update function with each slider\n",
    "morning_slider.on_changed(update)\n",
    "\n",
    "# Create a `matplotlib.widgets.Button` to reset the sliders to initial values.\n",
    "resetax = fig.add_axes([0.8, 0, 0.1, 0.04])\n",
    "button = Button(resetax, 'Reset', hovercolor='0.975')\n",
    "\n",
    "def reset(event):\n",
    "    morning_slider.reset()\n",
    "\n",
    "button.on_clicked(reset)\n",
    "\n",
    "plt.show()\n"
   ]
  },
  {
   "cell_type": "code",
   "execution_count": null,
   "id": "09cfda13-4dbd-43ab-9aa9-008217bf75f3",
   "metadata": {},
   "outputs": [],
   "source": []
  }
 ],
 "metadata": {
  "kernelspec": {
   "display_name": "herus_venv",
   "language": "python",
   "name": "herus_venv"
  },
  "language_info": {
   "codemirror_mode": {
    "name": "ipython",
    "version": 3
   },
   "file_extension": ".py",
   "mimetype": "text/x-python",
   "name": "python",
   "nbconvert_exporter": "python",
   "pygments_lexer": "ipython3",
   "version": "3.8.10"
  }
 },
 "nbformat": 4,
 "nbformat_minor": 5
}
